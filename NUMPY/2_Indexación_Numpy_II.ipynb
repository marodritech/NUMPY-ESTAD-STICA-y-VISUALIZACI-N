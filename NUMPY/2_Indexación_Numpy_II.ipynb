{
 "cells": [
  {
   "cell_type": "code",
   "execution_count": 1,
   "metadata": {},
   "outputs": [],
   "source": [
    "import numpy as np"
   ]
  },
  {
   "attachments": {},
   "cell_type": "markdown",
   "metadata": {},
   "source": [
    "### Cread un array de dos dimensiones de 5 filas y 3 columnas. \n",
    "\n",
    "### Sobre el array creado anteriormente, extraed:"
   ]
  },
  {
   "cell_type": "code",
   "execution_count": 2,
   "metadata": {},
   "outputs": [
    {
     "data": {
      "text/plain": [
       "array([[0.66, 0.39, 0.35],\n",
       "       [0.  , 0.89, 0.61],\n",
       "       [0.9 , 0.57, 0.23],\n",
       "       [0.5 , 0.75, 0.86],\n",
       "       [0.01, 0.57, 0.55]])"
      ]
     },
     "execution_count": 2,
     "metadata": {},
     "output_type": "execute_result"
    }
   ],
   "source": [
    "array_1 = np.random.rand(5,3).round(2)\n",
    "array_1"
   ]
  },
  {
   "attachments": {},
   "cell_type": "markdown",
   "metadata": {},
   "source": [
    "### El valor de la primera fila y la segunda columna."
   ]
  },
  {
   "cell_type": "code",
   "execution_count": 3,
   "metadata": {},
   "outputs": [
    {
     "data": {
      "text/plain": [
       "0.39"
      ]
     },
     "execution_count": 3,
     "metadata": {},
     "output_type": "execute_result"
    }
   ],
   "source": [
    "array_1[0,1]"
   ]
  },
  {
   "attachments": {},
   "cell_type": "markdown",
   "metadata": {},
   "source": [
    "### Los valores de la segunda fila y las dos primeras columnas."
   ]
  },
  {
   "cell_type": "code",
   "execution_count": 4,
   "metadata": {},
   "outputs": [
    {
     "data": {
      "text/plain": [
       "array([0.  , 0.89])"
      ]
     },
     "execution_count": 4,
     "metadata": {},
     "output_type": "execute_result"
    }
   ],
   "source": [
    "array_1[1,:2]"
   ]
  },
  {
   "attachments": {},
   "cell_type": "markdown",
   "metadata": {},
   "source": [
    "### Extraed las filas pares (incluyendo la 0) y todas las columnas."
   ]
  },
  {
   "cell_type": "code",
   "execution_count": 5,
   "metadata": {},
   "outputs": [
    {
     "data": {
      "text/plain": [
       "array([[0.66, 0.39, 0.35],\n",
       "       [0.9 , 0.57, 0.23],\n",
       "       [0.01, 0.57, 0.55]])"
      ]
     },
     "execution_count": 5,
     "metadata": {},
     "output_type": "execute_result"
    }
   ],
   "source": [
    "array_1[0::2,:]"
   ]
  },
  {
   "attachments": {},
   "cell_type": "markdown",
   "metadata": {},
   "source": [
    "### Extraed los valores que sean mayores que 0.5."
   ]
  },
  {
   "cell_type": "code",
   "execution_count": 6,
   "metadata": {},
   "outputs": [
    {
     "data": {
      "text/plain": [
       "array([0.66, 0.89, 0.61, 0.9 , 0.57, 0.75, 0.86, 0.57, 0.55])"
      ]
     },
     "execution_count": 6,
     "metadata": {},
     "output_type": "execute_result"
    }
   ],
   "source": [
    "array_1[array_1>0.5]"
   ]
  },
  {
   "attachments": {},
   "cell_type": "markdown",
   "metadata": {},
   "source": [
    "### Extraed los valores menores que 0.2 o mayores que 0.5"
   ]
  },
  {
   "cell_type": "code",
   "execution_count": 7,
   "metadata": {},
   "outputs": [
    {
     "data": {
      "text/plain": [
       "array([0.66, 0.  , 0.89, 0.61, 0.9 , 0.57, 0.75, 0.86, 0.01, 0.57, 0.55])"
      ]
     },
     "execution_count": 7,
     "metadata": {},
     "output_type": "execute_result"
    }
   ],
   "source": [
    "array_1[(array_1<0.2) | (array_1>0.5)]"
   ]
  },
  {
   "attachments": {},
   "cell_type": "markdown",
   "metadata": {},
   "source": [
    "____________"
   ]
  },
  {
   "attachments": {},
   "cell_type": "markdown",
   "metadata": {},
   "source": [
    "### Cread dos array de tres dimensiones:"
   ]
  },
  {
   "cell_type": "markdown",
   "metadata": {},
   "source": [
    "El primero de 2 matrices, 5 filas y 3 columnas."
   ]
  },
  {
   "cell_type": "code",
   "execution_count": 8,
   "metadata": {},
   "outputs": [
    {
     "name": "stdout",
     "output_type": "stream",
     "text": [
      "[[[0.82 0.34 0.87]\n",
      "  [0.96 0.57 0.57]\n",
      "  [0.01 0.8  0.66]\n",
      "  [0.75 0.05 0.65]\n",
      "  [0.68 0.09 0.45]]\n",
      "\n",
      " [[0.29 0.03 0.62]\n",
      "  [0.49 0.36 0.41]\n",
      "  [0.05 0.08 0.2 ]\n",
      "  [0.68 0.19 0.12]\n",
      "  [0.32 0.41 0.01]]]\n"
     ]
    }
   ],
   "source": [
    "array_2 = np.random.rand(2,5,3).round(2)\n",
    "print(array_2)\n"
   ]
  },
  {
   "cell_type": "markdown",
   "metadata": {},
   "source": [
    "El segundo de 3 matrices, 2 filas y 5 columnas"
   ]
  },
  {
   "cell_type": "code",
   "execution_count": 9,
   "metadata": {},
   "outputs": [
    {
     "name": "stdout",
     "output_type": "stream",
     "text": [
      "[[[0.27 0.98 0.13 0.6  0.25]\n",
      "  [0.76 0.24 0.09 0.92 0.08]]\n",
      "\n",
      " [[0.84 0.32 0.01 0.07 0.63]\n",
      "  [0.33 0.7  0.31 0.1  0.18]]\n",
      "\n",
      " [[0.8  0.27 0.   0.59 0.73]\n",
      "  [0.5  0.58 0.94 0.38 0.64]]]\n"
     ]
    }
   ],
   "source": [
    "array_3 = np.random.rand(3,2,5).round(2)\n",
    "print(array_3)"
   ]
  },
  {
   "attachments": {},
   "cell_type": "markdown",
   "metadata": {},
   "source": [
    "________________"
   ]
  },
  {
   "attachments": {},
   "cell_type": "markdown",
   "metadata": {},
   "source": [
    "### Haced un análisis exploratorio de los array creados."
   ]
  },
  {
   "cell_type": "code",
   "execution_count": 10,
   "metadata": {},
   "outputs": [],
   "source": [
    "def informar_arrays(array_a_comprobar):\n",
    "    array_a_comprobar.shape\n",
    "    array_a_comprobar.size\n",
    "    array_a_comprobar.dtype\n",
    "    array_a_comprobar.ndim\n",
    "    return print(f\"La forma de nuestra array es {array_a_comprobar.shape}. El tamaño de nuestra array es de {array_a_comprobar.size}. El tipo de nuestra array es {array_a_comprobar.dtype}. Y la dimensión de nuestra array es {array_a_comprobar.ndim}.\")"
   ]
  },
  {
   "cell_type": "code",
   "execution_count": 11,
   "metadata": {},
   "outputs": [
    {
     "name": "stdout",
     "output_type": "stream",
     "text": [
      "La forma de nuestra array es (2, 5, 3). El tamaño de nuestra array es de 30. El tipo de nuestra array es float64. Y la dimensión de nuestra array es 3.\n"
     ]
    }
   ],
   "source": [
    "informar_arrays(array_2)"
   ]
  },
  {
   "cell_type": "code",
   "execution_count": 12,
   "metadata": {},
   "outputs": [
    {
     "name": "stdout",
     "output_type": "stream",
     "text": [
      "La forma de nuestra array es (3, 2, 5). El tamaño de nuestra array es de 30. El tipo de nuestra array es float64. Y la dimensión de nuestra array es 3.\n"
     ]
    }
   ],
   "source": [
    "informar_arrays(array_3)"
   ]
  },
  {
   "attachments": {},
   "cell_type": "markdown",
   "metadata": {},
   "source": [
    "_____________"
   ]
  },
  {
   "attachments": {},
   "cell_type": "markdown",
   "metadata": {},
   "source": [
    "### Sumad los dos arrays. ¿Podéis? ¿Por qué?"
   ]
  },
  {
   "cell_type": "code",
   "execution_count": 13,
   "metadata": {},
   "outputs": [
    {
     "ename": "ValueError",
     "evalue": "operands could not be broadcast together with shapes (2,5,3) (3,2,5) ",
     "output_type": "error",
     "traceback": [
      "\u001b[0;31m---------------------------------------------------------------------------\u001b[0m",
      "\u001b[0;31mValueError\u001b[0m                                Traceback (most recent call last)",
      "\u001b[0;32m/var/folders/66/3gn2x5sj3tlfxjp4wp1zg9n00000gn/T/ipykernel_10408/2958271391.py\u001b[0m in \u001b[0;36m<module>\u001b[0;34m\u001b[0m\n\u001b[0;32m----> 1\u001b[0;31m \u001b[0mnp\u001b[0m\u001b[0;34m.\u001b[0m\u001b[0madd\u001b[0m\u001b[0;34m(\u001b[0m\u001b[0marray_2\u001b[0m\u001b[0;34m,\u001b[0m\u001b[0marray_3\u001b[0m\u001b[0;34m)\u001b[0m\u001b[0;34m\u001b[0m\u001b[0;34m\u001b[0m\u001b[0m\n\u001b[0m",
      "\u001b[0;31mValueError\u001b[0m: operands could not be broadcast together with shapes (2,5,3) (3,2,5) "
     ]
    }
   ],
   "source": [
    "np.add(array_2,array_3)"
   ]
  },
  {
   "cell_type": "markdown",
   "metadata": {},
   "source": [
    "No se puede sumar porque las dos *arrays* no tienen la misma *shape*/forma."
   ]
  },
  {
   "cell_type": "markdown",
   "metadata": {},
   "source": [
    "Para cambiar la forma de un array y poder hacer operaciones entre arrays que tienen distintas formas hemos aprendido dos métodos:\n",
    "- reshape()\n",
    "- transpose()"
   ]
  },
  {
   "cell_type": "code",
   "execution_count": 14,
   "metadata": {},
   "outputs": [
    {
     "data": {
      "text/plain": [
       "array([[[0.27, 0.84, 0.8 ],\n",
       "        [0.98, 0.32, 0.27],\n",
       "        [0.13, 0.01, 0.  ],\n",
       "        [0.6 , 0.07, 0.59],\n",
       "        [0.25, 0.63, 0.73]],\n",
       "\n",
       "       [[0.76, 0.33, 0.5 ],\n",
       "        [0.24, 0.7 , 0.58],\n",
       "        [0.09, 0.31, 0.94],\n",
       "        [0.92, 0.1 , 0.38],\n",
       "        [0.08, 0.18, 0.64]]])"
      ]
     },
     "execution_count": 14,
     "metadata": {},
     "output_type": "execute_result"
    }
   ],
   "source": [
    "array_3_cambiada = np.transpose(array_3,(1,2,0))\n",
    "array_3_cambiada"
   ]
  },
  {
   "cell_type": "code",
   "execution_count": 15,
   "metadata": {},
   "outputs": [
    {
     "data": {
      "text/plain": [
       "array([[[0.27, 0.98, 0.13],\n",
       "        [0.6 , 0.25, 0.76],\n",
       "        [0.24, 0.09, 0.92],\n",
       "        [0.08, 0.84, 0.32],\n",
       "        [0.01, 0.07, 0.63]],\n",
       "\n",
       "       [[0.33, 0.7 , 0.31],\n",
       "        [0.1 , 0.18, 0.8 ],\n",
       "        [0.27, 0.  , 0.59],\n",
       "        [0.73, 0.5 , 0.58],\n",
       "        [0.94, 0.38, 0.64]]])"
      ]
     },
     "execution_count": 15,
     "metadata": {},
     "output_type": "execute_result"
    }
   ],
   "source": [
    "array_3_shape = np.reshape(array_3,(2,5,3))\n",
    "array_3_shape"
   ]
  },
  {
   "attachments": {},
   "cell_type": "markdown",
   "metadata": {},
   "source": [
    "__________"
   ]
  },
  {
   "attachments": {},
   "cell_type": "markdown",
   "metadata": {},
   "source": [
    "### Una vez cambiada la forma de los array, haced operaciones entre ellos."
   ]
  },
  {
   "cell_type": "code",
   "execution_count": 16,
   "metadata": {},
   "outputs": [
    {
     "data": {
      "text/plain": [
       "array([[[1.09, 1.18, 1.67],\n",
       "        [1.94, 0.89, 0.84],\n",
       "        [0.14, 0.81, 0.66],\n",
       "        [1.35, 0.12, 1.24],\n",
       "        [0.93, 0.72, 1.18]],\n",
       "\n",
       "       [[1.05, 0.36, 1.12],\n",
       "        [0.73, 1.06, 0.99],\n",
       "        [0.14, 0.39, 1.14],\n",
       "        [1.6 , 0.29, 0.5 ],\n",
       "        [0.4 , 0.59, 0.65]]])"
      ]
     },
     "execution_count": 16,
     "metadata": {},
     "output_type": "execute_result"
    }
   ],
   "source": [
    "array_suma = np.add(array_2,array_3_cambiada)\n",
    "array_suma"
   ]
  },
  {
   "cell_type": "code",
   "execution_count": 17,
   "metadata": {},
   "outputs": [
    {
     "data": {
      "text/plain": [
       "array([[[ 0.55, -0.64,  0.74],\n",
       "        [ 0.36,  0.32, -0.19],\n",
       "        [-0.23,  0.71, -0.26],\n",
       "        [ 0.67, -0.79,  0.33],\n",
       "        [ 0.67,  0.02, -0.18]],\n",
       "\n",
       "       [[-0.04, -0.67,  0.31],\n",
       "        [ 0.39,  0.18, -0.39],\n",
       "        [-0.22,  0.08, -0.39],\n",
       "        [-0.05, -0.31, -0.46],\n",
       "        [-0.62,  0.03, -0.63]]])"
      ]
     },
     "execution_count": 17,
     "metadata": {},
     "output_type": "execute_result"
    }
   ],
   "source": [
    "array_resta = np.subtract(array_2,array_3_shape)\n",
    "array_resta"
   ]
  },
  {
   "cell_type": "code",
   "execution_count": 18,
   "metadata": {},
   "outputs": [
    {
     "data": {
      "text/plain": [
       "array([[[0.22, 0.29, 0.7 ],\n",
       "        [0.94, 0.18, 0.15],\n",
       "        [0.  , 0.01, 0.  ],\n",
       "        [0.45, 0.  , 0.38],\n",
       "        [0.17, 0.06, 0.33]],\n",
       "\n",
       "       [[0.22, 0.01, 0.31],\n",
       "        [0.12, 0.25, 0.24],\n",
       "        [0.  , 0.02, 0.19],\n",
       "        [0.63, 0.02, 0.05],\n",
       "        [0.03, 0.07, 0.01]]])"
      ]
     },
     "execution_count": 18,
     "metadata": {},
     "output_type": "execute_result"
    }
   ],
   "source": [
    "array_multi = np.multiply(array_2, array_3_cambiada).round(2)\n",
    "array_multi"
   ]
  },
  {
   "cell_type": "code",
   "execution_count": 19,
   "metadata": {},
   "outputs": [
    {
     "name": "stderr",
     "output_type": "stream",
     "text": [
      "/var/folders/66/3gn2x5sj3tlfxjp4wp1zg9n00000gn/T/ipykernel_10408/2579763873.py:1: RuntimeWarning: divide by zero encountered in true_divide\n",
      "  array_division = np.divide(array_2,array_3_shape).round(2)\n"
     ]
    },
    {
     "data": {
      "text/plain": [
       "array([[[3.04e+00, 3.50e-01, 6.69e+00],\n",
       "        [1.60e+00, 2.28e+00, 7.50e-01],\n",
       "        [4.00e-02, 8.89e+00, 7.20e-01],\n",
       "        [9.38e+00, 6.00e-02, 2.03e+00],\n",
       "        [6.80e+01, 1.29e+00, 7.10e-01]],\n",
       "\n",
       "       [[8.80e-01, 4.00e-02, 2.00e+00],\n",
       "        [4.90e+00, 2.00e+00, 5.10e-01],\n",
       "        [1.90e-01,      inf, 3.40e-01],\n",
       "        [9.30e-01, 3.80e-01, 2.10e-01],\n",
       "        [3.40e-01, 1.08e+00, 2.00e-02]]])"
      ]
     },
     "execution_count": 19,
     "metadata": {},
     "output_type": "execute_result"
    }
   ],
   "source": [
    "array_division = np.divide(array_2,array_3_shape).round(2)\n",
    "array_division"
   ]
  }
 ],
 "metadata": {
  "kernelspec": {
   "display_name": "Python 3",
   "language": "python",
   "name": "python3"
  },
  "language_info": {
   "codemirror_mode": {
    "name": "ipython",
    "version": 3
   },
   "file_extension": ".py",
   "mimetype": "text/x-python",
   "name": "python",
   "nbconvert_exporter": "python",
   "pygments_lexer": "ipython3",
   "version": "3.10.7"
  },
  "orig_nbformat": 4,
  "vscode": {
   "interpreter": {
    "hash": "f0d0cdf5bbfc5bf143425a9ac8ca58b7235654eb99f7bbb57643934264c436bd"
   }
  }
 },
 "nbformat": 4,
 "nbformat_minor": 2
}
