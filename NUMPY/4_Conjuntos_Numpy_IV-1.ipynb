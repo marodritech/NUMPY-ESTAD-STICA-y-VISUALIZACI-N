{
 "cells": [
  {
   "cell_type": "code",
   "execution_count": 1,
   "metadata": {},
   "outputs": [],
   "source": [
    "import numpy as np\n",
    "import random"
   ]
  },
  {
   "attachments": {},
   "cell_type": "markdown",
   "metadata": {},
   "source": [
    "### ¿Cómo podemos crear dos arrays de dos dimensiones usando el método random_sample que tengan los mismos valores?"
   ]
  },
  {
   "cell_type": "code",
   "execution_count": 2,
   "metadata": {},
   "outputs": [],
   "source": [
    "np.random.seed(42)\n",
    "arr_1 = np.random.random_sample((2,5))\n",
    "np.random.seed(42)\n",
    "arr_2 = np.random.random_sample((2,5))"
   ]
  },
  {
   "cell_type": "code",
   "execution_count": 3,
   "metadata": {},
   "outputs": [
    {
     "name": "stdout",
     "output_type": "stream",
     "text": [
      "[[0.37454012 0.95071431 0.73199394 0.59865848 0.15601864]\n",
      " [0.15599452 0.05808361 0.86617615 0.60111501 0.70807258]]\n",
      "[[0.37454012 0.95071431 0.73199394 0.59865848 0.15601864]\n",
      " [0.15599452 0.05808361 0.86617615 0.60111501 0.70807258]]\n"
     ]
    }
   ],
   "source": [
    "#Aqui podemos ver que los dos arrays son iguales\n",
    "print(arr_1)\n",
    "print(arr_2)"
   ]
  },
  {
   "attachments": {},
   "cell_type": "markdown",
   "metadata": {},
   "source": [
    "____________"
   ]
  },
  {
   "attachments": {},
   "cell_type": "markdown",
   "metadata": {},
   "source": [
    "### Cread los siguientes arrays:\n",
    "    \n",
    "- Un array de tres dimensiones con distribución uniforme de 2 x 3 x 5, con números entre 0 y 10, que no tengan decimales y extrae sus valores únicos almacenándolos en una variable.\n",
    "- Un array de tres dimensiones con distribución binomial de 2 x 3 x 5, con probabilidad de 0.3 y número de pruebas igual a 10. Igual que antes, extrae sus valores únicos y guarda los datos en una variable."
   ]
  },
  {
   "cell_type": "code",
   "execution_count": 4,
   "metadata": {},
   "outputs": [
    {
     "data": {
      "text/plain": [
       "array([[[ 0., 10.,  8.,  2.,  2.],\n",
       "        [ 2.,  3.,  5.,  4.,  3.],\n",
       "        [ 6.,  1.,  3.,  4.,  5.]],\n",
       "\n",
       "       [[ 8.,  2.,  5.,  6.,  0.],\n",
       "        [ 6.,  2.,  1.,  9., 10.],\n",
       "        [ 8.,  3.,  1.,  7.,  4.]]])"
      ]
     },
     "execution_count": 4,
     "metadata": {},
     "output_type": "execute_result"
    }
   ],
   "source": [
    "arr_uniforme =np.round(np.random.uniform(0,10, size=(2,3,5)))\n",
    "arr_uniforme"
   ]
  },
  {
   "cell_type": "code",
   "execution_count": 5,
   "metadata": {},
   "outputs": [
    {
     "data": {
      "text/plain": [
       "array([[[1, 3, 1, 5, 2],\n",
       "        [4, 2, 3, 3, 2],\n",
       "        [6, 4, 5, 5, 3]],\n",
       "\n",
       "       [[5, 1, 2, 1, 2],\n",
       "        [3, 2, 4, 2, 2],\n",
       "        [3, 1, 4, 1, 6]]])"
      ]
     },
     "execution_count": 5,
     "metadata": {},
     "output_type": "execute_result"
    }
   ],
   "source": [
    "arr_bin = np.random.binomial(10, 0.3, size = (2,3,5))\n",
    "arr_bin"
   ]
  },
  {
   "attachments": {},
   "cell_type": "markdown",
   "metadata": {},
   "source": [
    "__________"
   ]
  },
  {
   "attachments": {},
   "cell_type": "markdown",
   "metadata": {},
   "source": [
    "### Usando los arrays de elementos únicos obtenidos en el ejercicio anterior realizad las siguientes operaciones:"
   ]
  },
  {
   "cell_type": "markdown",
   "metadata": {},
   "source": [
    "- Elementos comunes entre los dos arrays"
   ]
  },
  {
   "cell_type": "code",
   "execution_count": 6,
   "metadata": {},
   "outputs": [
    {
     "data": {
      "text/plain": [
       "array([ 0.,  1.,  2.,  3.,  4.,  5.,  6.,  7.,  8.,  9., 10.])"
      ]
     },
     "execution_count": 6,
     "metadata": {},
     "output_type": "execute_result"
    }
   ],
   "source": [
    "arr_unique_1 = np.unique(arr_uniforme)\n",
    "arr_unique_1"
   ]
  },
  {
   "cell_type": "code",
   "execution_count": 7,
   "metadata": {},
   "outputs": [
    {
     "data": {
      "text/plain": [
       "array([1, 2, 3, 4, 5, 6])"
      ]
     },
     "execution_count": 7,
     "metadata": {},
     "output_type": "execute_result"
    }
   ],
   "source": [
    "arr_unique_2 = np.unique(arr_bin)\n",
    "arr_unique_2"
   ]
  },
  {
   "cell_type": "code",
   "execution_count": 8,
   "metadata": {},
   "outputs": [
    {
     "data": {
      "text/plain": [
       "array([1., 2., 3., 4., 5., 6.])"
      ]
     },
     "execution_count": 8,
     "metadata": {},
     "output_type": "execute_result"
    }
   ],
   "source": [
    "arr_comunes = np.intersect1d(arr_unique_1,arr_unique_2)\n",
    "arr_comunes"
   ]
  },
  {
   "attachments": {},
   "cell_type": "markdown",
   "metadata": {},
   "source": [
    " Hemos mirado los elementos unicos de los arrays con el metodo unique, porque como son de tres dimensiones así nos devolvia un array de una dimension.\n",
    "\n",
    " Asi podiamos usar el metodo intersect1d que solo admite una array de una dimension."
   ]
  },
  {
   "attachments": {},
   "cell_type": "markdown",
   "metadata": {},
   "source": [
    "________________"
   ]
  },
  {
   "attachments": {},
   "cell_type": "markdown",
   "metadata": {},
   "source": [
    "-  Unión de los dos arrays"
   ]
  },
  {
   "cell_type": "code",
   "execution_count": 9,
   "metadata": {},
   "outputs": [
    {
     "data": {
      "text/plain": [
       "array([ 0.,  1.,  2.,  3.,  4.,  5.,  6.,  7.,  8.,  9., 10.])"
      ]
     },
     "execution_count": 9,
     "metadata": {},
     "output_type": "execute_result"
    }
   ],
   "source": [
    "arr_union = np.union1d(arr_unique_1,arr_unique_2)\n",
    "arr_union"
   ]
  },
  {
   "attachments": {},
   "cell_type": "markdown",
   "metadata": {},
   "source": [
    "\n",
    "Siguiendo el exemplo de antes usamos el metodo union para unir los valores unicos de cada array."
   ]
  },
  {
   "cell_type": "markdown",
   "metadata": {},
   "source": [
    "- ¿Qué elementos están en el array derivado de la distribución uniforme y no en los únicos de la distribución binomial? Extrae los valores númericos"
   ]
  },
  {
   "cell_type": "code",
   "execution_count": 10,
   "metadata": {},
   "outputs": [
    {
     "name": "stdout",
     "output_type": "stream",
     "text": [
      "[ 0.  1.  2.  3.  4.  5.  6.  7.  8.  9. 10.]\n",
      "[1 2 3 4 5 6]\n"
     ]
    }
   ],
   "source": [
    "print(arr_unique_1)\n",
    "print(arr_unique_2)"
   ]
  },
  {
   "cell_type": "code",
   "execution_count": 11,
   "metadata": {},
   "outputs": [
    {
     "data": {
      "text/plain": [
       "array([ 0.,  7.,  8.,  9., 10.])"
      ]
     },
     "execution_count": 11,
     "metadata": {},
     "output_type": "execute_result"
    }
   ],
   "source": [
    "arr_diferencia = np.setdiff1d(arr_unique_1, arr_unique_2)\n",
    "arr_diferencia"
   ]
  },
  {
   "attachments": {},
   "cell_type": "markdown",
   "metadata": {},
   "source": [
    "Nos devuelve los elementos unicos que hay en la array_1 pero no hay en la array_2."
   ]
  },
  {
   "attachments": {},
   "cell_type": "markdown",
   "metadata": {},
   "source": [
    "__________________"
   ]
  },
  {
   "attachments": {},
   "cell_type": "markdown",
   "metadata": {},
   "source": [
    "### Cread dos arrays usando el método random.randint de Numpy con 80 elementos cada uno con números del 1-100, con los siguientes nombres array1 y array2."
   ]
  },
  {
   "cell_type": "code",
   "execution_count": 12,
   "metadata": {},
   "outputs": [
    {
     "name": "stdout",
     "output_type": "stream",
     "text": [
      "[88  1  8 88 63 11 81  8 35 35 33  5 41 28  7 73 72 12 34 33 48 23 62 88\n",
      " 37 99 44 86 91 35 65 99 47 78  3  1  5 90 14 27  9 79 15 90 42 77 51 63\n",
      " 96 52 96  4 94 23 15 43 29 36 13 32 71 59 86 28 66 42 45 62 57  6 28 28\n",
      " 44 84 30 62 75 92 89 62]\n",
      "[97  1 27 62 77  3 70 72 27  9 62 37 97 51 44 24 79 59 32 96 88 52 62 58\n",
      " 52 12 39  2  3 56 81 59  2  2 92 54 87 96 97  1 19  2 53 44 90 32 70 32\n",
      " 68 55 75 56 17 38 24 69 98 70 86 11 16 97 73 59 70 80 93  3 20 59 36 19\n",
      " 90 67 19 20 96 71 52 33]\n"
     ]
    }
   ],
   "source": [
    "array1 = np.random.randint(1,100, 80)\n",
    "array2 = np.random.randint(1,100, 80)\n",
    "\n",
    "print(array1)\n",
    "print(array2)"
   ]
  },
  {
   "cell_type": "markdown",
   "metadata": {},
   "source": [
    "- Extraed los valores únicos de cada uno de los arrays y los guardáis en variables en las que se les llame array1 y array2."
   ]
  },
  {
   "cell_type": "code",
   "execution_count": 13,
   "metadata": {},
   "outputs": [
    {
     "name": "stdout",
     "output_type": "stream",
     "text": [
      "[ 1  3  4  5  6  7  8  9 11 12 13 14 15 23 27 28 29 30 32 33 34 35 36 37\n",
      " 41 42 43 44 45 47 48 51 52 57 59 62 63 65 66 71 72 73 75 77 78 79 81 84\n",
      " 86 88 89 90 91 92 94 96 99]\n",
      "[ 1  2  3  9 11 12 16 17 19 20 24 27 32 33 36 37 38 39 44 51 52 53 54 55\n",
      " 56 58 59 62 67 68 69 70 71 72 73 75 77 79 80 81 86 87 88 90 92 93 96 97\n",
      " 98]\n"
     ]
    }
   ],
   "source": [
    "array1 = np.unique(array1)\n",
    "array2 = np.unique(array2)\n",
    "\n",
    "print(array1)\n",
    "print(array2)"
   ]
  },
  {
   "cell_type": "markdown",
   "metadata": {},
   "source": [
    "- Identificad los elementos presentes en el array1 pero no en el array2 y asiganarlo a una variable que se llame array3."
   ]
  },
  {
   "cell_type": "code",
   "execution_count": 14,
   "metadata": {},
   "outputs": [
    {
     "data": {
      "text/plain": [
       "array([ 4,  5,  6,  7,  8, 13, 14, 15, 23, 28, 29, 30, 34, 35, 41, 42, 43,\n",
       "       45, 47, 48, 57, 63, 65, 66, 78, 84, 89, 91, 94, 99])"
      ]
     },
     "execution_count": 14,
     "metadata": {},
     "output_type": "execute_result"
    }
   ],
   "source": [
    "array3 = np.setdiff1d(array1, array2)\n",
    "array3"
   ]
  },
  {
   "cell_type": "markdown",
   "metadata": {},
   "source": [
    "- Identificad los elementos presentes en el array2 pero no en el array1 y asiganarlo a una variable que se llame array4."
   ]
  },
  {
   "cell_type": "code",
   "execution_count": 15,
   "metadata": {},
   "outputs": [
    {
     "data": {
      "text/plain": [
       "array([ 2, 16, 17, 19, 20, 24, 38, 39, 53, 54, 55, 56, 58, 67, 68, 69, 70,\n",
       "       80, 87, 93, 97, 98])"
      ]
     },
     "execution_count": 15,
     "metadata": {},
     "output_type": "execute_result"
    }
   ],
   "source": [
    "array4 = np.setdiff1d(array2, array1)\n",
    "array4"
   ]
  },
  {
   "cell_type": "markdown",
   "metadata": {},
   "source": [
    "- Identificad los elementos presentes en ambos arrays y asiganarlos a una variable que se llame array5."
   ]
  },
  {
   "cell_type": "code",
   "execution_count": 16,
   "metadata": {},
   "outputs": [
    {
     "data": {
      "text/plain": [
       "array([ 1,  3,  9, 11, 12, 27, 32, 33, 36, 37, 44, 51, 52, 59, 62, 71, 72,\n",
       "       73, 75, 77, 79, 81, 86, 88, 90, 92, 96])"
      ]
     },
     "execution_count": 16,
     "metadata": {},
     "output_type": "execute_result"
    }
   ],
   "source": [
    "array5 = np.intersect1d(array1,array2)\n",
    "array5"
   ]
  },
  {
   "cell_type": "markdown",
   "metadata": {},
   "source": [
    "- ¿Cuál es la relación que existe entre todos estos arrays?\n",
    "\n"
   ]
  },
  {
   "cell_type": "code",
   "execution_count": 17,
   "metadata": {},
   "outputs": [
    {
     "name": "stdout",
     "output_type": "stream",
     "text": [
      "57\n",
      "49\n",
      "30\n",
      "22\n",
      "27\n"
     ]
    }
   ],
   "source": [
    "print(len(array1))\n",
    "print(len(array2))\n",
    "print(len(array3))\n",
    "print(len(array4))\n",
    "print(len(array5))\n"
   ]
  },
  {
   "cell_type": "code",
   "execution_count": 18,
   "metadata": {},
   "outputs": [
    {
     "data": {
      "text/plain": [
       "False"
      ]
     },
     "execution_count": 18,
     "metadata": {},
     "output_type": "execute_result"
    }
   ],
   "source": [
    "(len(array1) + len(array2)) == len(array3)"
   ]
  },
  {
   "cell_type": "code",
   "execution_count": 19,
   "metadata": {},
   "outputs": [
    {
     "data": {
      "text/plain": [
       "True"
      ]
     },
     "execution_count": 19,
     "metadata": {},
     "output_type": "execute_result"
    }
   ],
   "source": [
    "len(array5) + (len(array4)) == len(array2)"
   ]
  },
  {
   "attachments": {},
   "cell_type": "markdown",
   "metadata": {},
   "source": [
    "Vemos que el len del array5 + el len del array 4 (27 + 22) dan como resultado el len del array2, 49"
   ]
  },
  {
   "cell_type": "code",
   "execution_count": 20,
   "metadata": {},
   "outputs": [
    {
     "data": {
      "text/plain": [
       "True"
      ]
     },
     "execution_count": 20,
     "metadata": {},
     "output_type": "execute_result"
    }
   ],
   "source": [
    "len(array5) + (len(array3)) == len(array1)"
   ]
  },
  {
   "attachments": {},
   "cell_type": "markdown",
   "metadata": {},
   "source": [
    "Vemos que el len del array5 + el len del array 4 (27 + 30) dan como resultado el len del array1, 57"
   ]
  }
 ],
 "metadata": {
  "kernelspec": {
   "display_name": "Python 3",
   "language": "python",
   "name": "python3"
  },
  "language_info": {
   "codemirror_mode": {
    "name": "ipython",
    "version": 3
   },
   "file_extension": ".py",
   "mimetype": "text/x-python",
   "name": "python",
   "nbconvert_exporter": "python",
   "pygments_lexer": "ipython3",
   "version": "3.10.7"
  },
  "orig_nbformat": 4,
  "vscode": {
   "interpreter": {
    "hash": "f0d0cdf5bbfc5bf143425a9ac8ca58b7235654eb99f7bbb57643934264c436bd"
   }
  }
 },
 "nbformat": 4,
 "nbformat_minor": 2
}
