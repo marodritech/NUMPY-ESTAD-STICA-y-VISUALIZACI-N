{
 "cells": [
  {
   "attachments": {},
   "cell_type": "markdown",
   "metadata": {},
   "source": [
    "Al igual que en los ejercicios de pair programming de estadística, deberéis elegir un set de datos, puede ser de cualquier tipo."
   ]
  },
  {
   "cell_type": "code",
   "execution_count": 1,
   "metadata": {},
   "outputs": [],
   "source": [
    "import pandas as pd\n",
    "import numpy as np\n",
    "import matplotlib.pyplot as plt\n",
    "import seaborn as sns\n"
   ]
  },
  {
   "cell_type": "code",
   "execution_count": 2,
   "metadata": {},
   "outputs": [],
   "source": [
    "fichero_peliculas = pd.read_csv(\"data/imdb_top_1000.csv\", encoding = \"latin-1\")"
   ]
  },
  {
   "attachments": {},
   "cell_type": "markdown",
   "metadata": {},
   "source": [
    "Hacer una exploración inicial del dataframe."
   ]
  },
  {
   "cell_type": "code",
   "execution_count": 3,
   "metadata": {},
   "outputs": [
    {
     "data": {
      "text/plain": [
       "Index(['Poster_Link', 'Series_Title', 'Released_Year', 'Certificate',\n",
       "       'Runtime', 'Genre', 'IMDB_Rating', 'Overview', 'Meta_score', 'Director',\n",
       "       'Star1', 'Star2', 'Star3', 'Star4', 'No_of_Votes', 'Gross'],\n",
       "      dtype='object')"
      ]
     },
     "execution_count": 3,
     "metadata": {},
     "output_type": "execute_result"
    }
   ],
   "source": [
    "fichero_peliculas.columns"
   ]
  },
  {
   "cell_type": "code",
   "execution_count": 4,
   "metadata": {},
   "outputs": [
    {
     "data": {
      "text/plain": [
       "(1000, 16)"
      ]
     },
     "execution_count": 4,
     "metadata": {},
     "output_type": "execute_result"
    }
   ],
   "source": [
    "fichero_peliculas.shape"
   ]
  },
  {
   "cell_type": "code",
   "execution_count": 5,
   "metadata": {},
   "outputs": [
    {
     "name": "stdout",
     "output_type": "stream",
     "text": [
      "<class 'pandas.core.frame.DataFrame'>\n",
      "RangeIndex: 1000 entries, 0 to 999\n",
      "Data columns (total 16 columns):\n",
      " #   Column         Non-Null Count  Dtype  \n",
      "---  ------         --------------  -----  \n",
      " 0   Poster_Link    1000 non-null   object \n",
      " 1   Series_Title   1000 non-null   object \n",
      " 2   Released_Year  1000 non-null   object \n",
      " 3   Certificate    899 non-null    object \n",
      " 4   Runtime        1000 non-null   object \n",
      " 5   Genre          1000 non-null   object \n",
      " 6   IMDB_Rating    1000 non-null   float64\n",
      " 7   Overview       1000 non-null   object \n",
      " 8   Meta_score     843 non-null    float64\n",
      " 9   Director       1000 non-null   object \n",
      " 10  Star1          1000 non-null   object \n",
      " 11  Star2          1000 non-null   object \n",
      " 12  Star3          1000 non-null   object \n",
      " 13  Star4          1000 non-null   object \n",
      " 14  No_of_Votes    1000 non-null   int64  \n",
      " 15  Gross          831 non-null    object \n",
      "dtypes: float64(2), int64(1), object(13)\n",
      "memory usage: 125.1+ KB\n"
     ]
    }
   ],
   "source": [
    "fichero_peliculas.info()"
   ]
  },
  {
   "cell_type": "code",
   "execution_count": 6,
   "metadata": {},
   "outputs": [
    {
     "data": {
      "text/plain": [
       "Poster_Link        0\n",
       "Series_Title       0\n",
       "Released_Year      0\n",
       "Certificate      101\n",
       "Runtime            0\n",
       "Genre              0\n",
       "IMDB_Rating        0\n",
       "Overview           0\n",
       "Meta_score       157\n",
       "Director           0\n",
       "Star1              0\n",
       "Star2              0\n",
       "Star3              0\n",
       "Star4              0\n",
       "No_of_Votes        0\n",
       "Gross            169\n",
       "dtype: int64"
      ]
     },
     "execution_count": 6,
     "metadata": {},
     "output_type": "execute_result"
    }
   ],
   "source": [
    "fichero_peliculas.isnull().sum()"
   ]
  },
  {
   "cell_type": "code",
   "execution_count": 7,
   "metadata": {},
   "outputs": [
    {
     "data": {
      "text/plain": [
       "array(['A', 'UA', 'U', 'PG-13', 'R', nan, 'PG', 'G', 'Passed', 'TV-14',\n",
       "       '16', 'TV-MA', 'Unrated', 'GP', 'Approved', 'TV-PG', 'U/A'],\n",
       "      dtype=object)"
      ]
     },
     "execution_count": 7,
     "metadata": {},
     "output_type": "execute_result"
    }
   ],
   "source": [
    "#Buscamos los valores únicos de la columna certificate para entender mejor que datos guarda esta categoría, entendemos que el la categoría para la película(mayores de ...)\n",
    "fichero_peliculas[\"Certificate\"].unique()"
   ]
  },
  {
   "cell_type": "code",
   "execution_count": 8,
   "metadata": {},
   "outputs": [
    {
     "data": {
      "text/plain": [
       "array(['Drama', 'Crime, Drama', 'Action, Crime, Drama',\n",
       "       'Action, Adventure, Drama', 'Biography, Drama, History',\n",
       "       'Action, Adventure, Sci-Fi', 'Drama, Romance', 'Western',\n",
       "       'Action, Sci-Fi', 'Biography, Crime, Drama',\n",
       "       'Action, Adventure, Fantasy', 'Comedy, Drama, Thriller',\n",
       "       'Adventure, Drama, Sci-Fi', 'Animation, Adventure, Family',\n",
       "       'Drama, War', 'Crime, Drama, Fantasy', 'Comedy, Drama, Romance',\n",
       "       'Crime, Drama, Mystery', 'Crime, Drama, Thriller',\n",
       "       'Action, Drama, Mystery', 'Drama, Family, Fantasy', 'Drama, Music',\n",
       "       'Biography, Comedy, Drama', 'Drama, Mystery, Sci-Fi',\n",
       "       'Biography, Drama, Music', 'Crime, Mystery, Thriller',\n",
       "       'Animation, Adventure, Drama', 'Animation, Drama, War',\n",
       "       'Adventure, Comedy, Sci-Fi', 'Horror, Mystery, Thriller',\n",
       "       'Drama, Romance, War', 'Comedy, Drama, Family',\n",
       "       'Animation, Drama, Fantasy', 'Action, Biography, Drama',\n",
       "       'Animation, Action, Adventure', 'Drama, Western',\n",
       "       'Action, Adventure', 'Comedy, Drama', 'Drama, Family',\n",
       "       'Drama, Mystery, Thriller', 'Mystery, Thriller', 'Drama, Horror',\n",
       "       'Drama, Mystery, War', 'Horror, Sci-Fi', 'Drama, Musical',\n",
       "       'Comedy', 'Drama, Film-Noir', 'Comedy, Drama, War',\n",
       "       'Drama, Thriller, War', 'Drama, Fantasy, Horror',\n",
       "       'Crime, Drama, Music', 'Adventure, Drama, War',\n",
       "       'Drama, Romance, Sci-Fi', 'Comedy, Romance', 'Comedy, Crime',\n",
       "       'Drama, Family, Sport', 'Animation, Adventure, Comedy',\n",
       "       'Adventure, Drama, Thriller', 'Comedy, Crime, Drama',\n",
       "       'Crime, Drama, Sci-Fi', 'Adventure, Sci-Fi',\n",
       "       'Adventure, Biography, Drama', 'Adventure, Mystery, Thriller',\n",
       "       'Mystery, Romance, Thriller', 'Comedy, Musical, Romance',\n",
       "       'Crime, Drama, Film-Noir', 'Drama, Mystery', 'Drama, Sci-Fi',\n",
       "       'Action, Drama, War', 'Action, Drama', 'Adventure, Comedy, Drama',\n",
       "       'Biography, Drama, Sport', 'Action, Comedy, Crime',\n",
       "       'Action, Biography, Crime', 'Drama, Mystery, Romance',\n",
       "       'Action, Drama, Sport', 'Drama, Fantasy, War',\n",
       "       'Action, Drama, Sci-Fi', 'Biography, Drama',\n",
       "       'Action, Comedy, Romance', 'Animation, Family, Fantasy',\n",
       "       'Action, Thriller', 'Action, Adventure, Comedy',\n",
       "       'Adventure, Comedy, Fantasy', 'Adventure, Drama, History',\n",
       "       'Action, Drama, Thriller', 'Comedy, Music, Romance',\n",
       "       'Drama, Fantasy, History', 'Crime, Thriller',\n",
       "       'Adventure, Drama, Western', 'Comedy, War', 'Drama, Thriller',\n",
       "       'Animation, Drama, Family', 'Drama, Romance, Thriller',\n",
       "       'Comedy, Drama, Musical', 'Comedy, Drama, Fantasy',\n",
       "       'Adventure, Comedy, Crime', 'Adventure, Drama, Fantasy',\n",
       "       'Biography, Drama, Family', 'Animation, Comedy, Drama',\n",
       "       'Drama, Sport', 'Animation, Action, Drama',\n",
       "       'Adventure, Drama, Musical', 'Drama, Music, Romance',\n",
       "       'Comedy, Crime, Romance', 'Comedy, Crime, Sport',\n",
       "       'Drama, History, Romance', 'Adventure, Drama',\n",
       "       'Animation, Adventure, Fantasy', 'Horror, Mystery, Sci-Fi',\n",
       "       'Drama, Fantasy, Music', 'Action, Sci-Fi, Thriller',\n",
       "       'Drama, Fantasy', 'Drama, Horror, Thriller', 'Drama, History',\n",
       "       'Film-Noir, Mystery, Thriller', 'Fantasy, Horror, Mystery',\n",
       "       'Action, Crime, Thriller', 'Comedy, Drama, Music',\n",
       "       'Biography, Drama, Thriller', 'Animation, Biography, Drama',\n",
       "       'Action, Mystery, Thriller', 'Crime, Drama, Romance',\n",
       "       'Action, Adventure, Thriller', 'Crime, Drama, Musical',\n",
       "       'Animation, Crime, Mystery', 'Action, Crime, Comedy',\n",
       "       'Mystery, Sci-Fi, Thriller', 'Animation, Action, Crime',\n",
       "       'Comedy, Fantasy, Romance', 'Drama, History, Thriller',\n",
       "       'Animation, Action, Sci-Fi', 'Adventure, Family, Fantasy',\n",
       "       'Drama, Fantasy, Romance', 'Drama, History, War',\n",
       "       'Adventure, Thriller', 'Horror', 'Drama, Family, Musical',\n",
       "       'Action, Drama, Western', 'Crime, Drama, Horror',\n",
       "       'Drama, Film-Noir, Mystery', 'Comedy, Crime, Thriller',\n",
       "       'Film-Noir, Mystery', 'Comedy, Crime, Mystery',\n",
       "       'Drama, Fantasy, Mystery', 'Comedy, Horror',\n",
       "       'Action, Adventure, History', 'Drama, Music, Mystery',\n",
       "       'Comedy, Music', 'Comedy, Family', 'Drama, Music, Musical',\n",
       "       'Action, Adventure, Horror', 'Action, Adventure, Biography',\n",
       "       'Biography, Drama, War', 'Action, Adventure, Western',\n",
       "       'Horror, Thriller', 'Comedy, Mystery, Romance',\n",
       "       'Drama, Thriller, Western', 'Crime, Film-Noir, Thriller',\n",
       "       'Drama, Film-Noir, Romance', 'Crime, Film-Noir, Mystery',\n",
       "       'Action, Adventure, Romance', 'Comedy, Music, Musical',\n",
       "       'Adventure, Horror, Sci-Fi', 'Fantasy, Horror',\n",
       "       'Action, Drama, History', 'Adventure, Comedy, Family',\n",
       "       'Animation, Biography, Crime', 'Adventure, Biography, Crime',\n",
       "       'Adventure, Fantasy', 'Drama, History, Mystery',\n",
       "       'Action, Comedy, Mystery', 'Adventure, Drama, Romance',\n",
       "       'Drama, Sci-Fi, Thriller', 'Crime, Drama, History',\n",
       "       'Action, Comedy, Fantasy', 'Family, Sci-Fi',\n",
       "       'Adventure, History, War', 'Animation, Sci-Fi',\n",
       "       'Family, Fantasy, Musical', 'Thriller', 'Comedy, Family, Fantasy',\n",
       "       'Adventure, Comedy, Film-Noir', 'Film-Noir, Thriller',\n",
       "       'Comedy, Family, Romance', 'Drama, Horror, Sci-Fi',\n",
       "       'Comedy, Musical, War', 'Biography, Drama, Romance',\n",
       "       'Drama, History, Music', 'Animation, Action, Fantasy',\n",
       "       'Animation, Comedy, Fantasy', 'Comedy, Western',\n",
       "       'Action, Adventure, War', 'Drama, Horror, Mystery',\n",
       "       'Animation, Comedy, Crime', 'Action, Adventure, Crime',\n",
       "       'Action, Adventure, Mystery', 'Action, Adventure, Family',\n",
       "       'Action, Crime, Mystery', 'Animation, Drama, Romance',\n",
       "       'Drama, War, Western', 'Adventure, Comedy, War'], dtype=object)"
      ]
     },
     "execution_count": 8,
     "metadata": {},
     "output_type": "execute_result"
    }
   ],
   "source": [
    "fichero_peliculas[\"Genre\"].unique()"
   ]
  },
  {
   "cell_type": "code",
   "execution_count": 9,
   "metadata": {},
   "outputs": [
    {
     "data": {
      "text/plain": [
       "Drama                        85\n",
       "Drama, Romance               37\n",
       "Comedy, Drama                35\n",
       "Comedy, Drama, Romance       31\n",
       "Action, Crime, Drama         30\n",
       "                             ..\n",
       "Adventure, Thriller           1\n",
       "Animation, Action, Sci-Fi     1\n",
       "Action, Crime, Comedy         1\n",
       "Animation, Crime, Mystery     1\n",
       "Adventure, Comedy, War        1\n",
       "Name: Genre, Length: 202, dtype: int64"
      ]
     },
     "execution_count": 9,
     "metadata": {},
     "output_type": "execute_result"
    }
   ],
   "source": [
    "fichero_peliculas[\"Genre\"].value_counts()"
   ]
  },
  {
   "cell_type": "code",
   "execution_count": 10,
   "metadata": {},
   "outputs": [
    {
     "data": {
      "text/plain": [
       "0"
      ]
     },
     "execution_count": 10,
     "metadata": {},
     "output_type": "execute_result"
    }
   ],
   "source": [
    "fichero_peliculas.duplicated().sum()"
   ]
  },
  {
   "cell_type": "code",
   "execution_count": 11,
   "metadata": {},
   "outputs": [
    {
     "data": {
      "text/html": [
       "<div>\n",
       "<style scoped>\n",
       "    .dataframe tbody tr th:only-of-type {\n",
       "        vertical-align: middle;\n",
       "    }\n",
       "\n",
       "    .dataframe tbody tr th {\n",
       "        vertical-align: top;\n",
       "    }\n",
       "\n",
       "    .dataframe thead th {\n",
       "        text-align: right;\n",
       "    }\n",
       "</style>\n",
       "<table border=\"1\" class=\"dataframe\">\n",
       "  <thead>\n",
       "    <tr style=\"text-align: right;\">\n",
       "      <th></th>\n",
       "      <th>Poster_Link</th>\n",
       "      <th>Series_Title</th>\n",
       "      <th>Released_Year</th>\n",
       "      <th>Certificate</th>\n",
       "      <th>Runtime</th>\n",
       "      <th>Genre</th>\n",
       "      <th>IMDB_Rating</th>\n",
       "      <th>Overview</th>\n",
       "      <th>Meta_score</th>\n",
       "      <th>Director</th>\n",
       "      <th>Star1</th>\n",
       "      <th>Star2</th>\n",
       "      <th>Star3</th>\n",
       "      <th>Star4</th>\n",
       "      <th>No_of_Votes</th>\n",
       "      <th>Gross</th>\n",
       "    </tr>\n",
       "  </thead>\n",
       "  <tbody>\n",
       "    <tr>\n",
       "      <th>411</th>\n",
       "      <td>https://m.media-amazon.com/images/M/MV5BMzJiZD...</td>\n",
       "      <td>Gandhi</td>\n",
       "      <td>1982</td>\n",
       "      <td>U</td>\n",
       "      <td>191 min</td>\n",
       "      <td>Biography, Drama, History</td>\n",
       "      <td>8.0</td>\n",
       "      <td>The life of the lawyer who became the famed le...</td>\n",
       "      <td>79.0</td>\n",
       "      <td>Richard Attenborough</td>\n",
       "      <td>Ben Kingsley</td>\n",
       "      <td>John Gielgud</td>\n",
       "      <td>Rohini Hattangadi</td>\n",
       "      <td>Roshan Seth</td>\n",
       "      <td>217664</td>\n",
       "      <td>52,767,889</td>\n",
       "    </tr>\n",
       "  </tbody>\n",
       "</table>\n",
       "</div>"
      ],
      "text/plain": [
       "                                           Poster_Link Series_Title  \\\n",
       "411  https://m.media-amazon.com/images/M/MV5BMzJiZD...       Gandhi   \n",
       "\n",
       "    Released_Year Certificate  Runtime                      Genre  \\\n",
       "411          1982           U  191 min  Biography, Drama, History   \n",
       "\n",
       "     IMDB_Rating                                           Overview  \\\n",
       "411          8.0  The life of the lawyer who became the famed le...   \n",
       "\n",
       "     Meta_score              Director         Star1         Star2  \\\n",
       "411        79.0  Richard Attenborough  Ben Kingsley  John Gielgud   \n",
       "\n",
       "                 Star3        Star4  No_of_Votes       Gross  \n",
       "411  Rohini Hattangadi  Roshan Seth       217664  52,767,889  "
      ]
     },
     "execution_count": 11,
     "metadata": {},
     "output_type": "execute_result"
    }
   ],
   "source": [
    "fichero_peliculas.sample()"
   ]
  },
  {
   "attachments": {},
   "cell_type": "markdown",
   "metadata": {},
   "source": [
    "Plantead una serie de preguntas como las que fuimos contestando en la clase invertida."
   ]
  },
  {
   "attachments": {},
   "cell_type": "markdown",
   "metadata": {},
   "source": [
    "- ¿En qué década salieron más películas? ¿En cuál menos? (histograma)\n",
    "- ¿Cuál es la estrella principal que más aparece en la década más famosa? ¿y en la menos?\n",
    "- ¿Qué película tiene la puntuación más alta de IMDB por década? ¿Y la más baja?\n",
    "- ¿Cuál es la puntuación media y cuales/cuantas películas son?\n",
    "- ¿Cuál es la película que ha costado más? ¿Cuál ha costado menos?"
   ]
  },
  {
   "attachments": {},
   "cell_type": "markdown",
   "metadata": {},
   "source": [
    "Contestad a las preguntas planteadas usando los principales estadísticos que hemos aprendido y gráficas que mejor se ajusten."
   ]
  },
  {
   "cell_type": "code",
   "execution_count": 12,
   "metadata": {},
   "outputs": [],
   "source": [
    "#fichero_peliculas[fichero_peliculas[\"Series_Title\"]==\"Alien\"]"
   ]
  },
  {
   "cell_type": "code",
   "execution_count": 13,
   "metadata": {},
   "outputs": [],
   "source": [
    "# ¿En qué década salieron más películas? ¿En cuál menos? \n",
    "\n",
    "# Como veremos más abajo la década con más películas es la del 2010 y la que menos es la del 1920"
   ]
  },
  {
   "cell_type": "code",
   "execution_count": 14,
   "metadata": {},
   "outputs": [
    {
     "data": {
      "text/plain": [
       "array(['1994', '1972', '2008', '1974', '1957', '2003', '1993', '2010',\n",
       "       '1999', '2001', '1966', '2002', '1990', '1980', '1975', '2020',\n",
       "       '2019', '2014', '1998', '1997', '1995', '1991', '1977', '1962',\n",
       "       '1954', '1946', '2011', '2006', '2000', '1988', '1985', '1968',\n",
       "       '1960', '1942', '1936', '1931', '2018', '2017', '2016', '2012',\n",
       "       '2009', '2007', '1984', '1981', '1979', '1971', '1963', '1964',\n",
       "       '1950', '1940', '2013', '2005', '2004', '1992', '1987', '1986',\n",
       "       '1983', '1976', '1973', '1965', '1959', '1958', '1952', '1948',\n",
       "       '1944', '1941', '1927', '1921', '2015', '1996', '1989', '1978',\n",
       "       '1961', '1955', '1953', '1925', '1924', '1982', '1967', '1951',\n",
       "       '1949', '1939', '1937', '1934', '1928', '1926', '1920', '1970',\n",
       "       '1969', '1956', '1947', '1945', '1930', '1938', '1935', '1933',\n",
       "       '1932', '1922', '1943', 'PG'], dtype=object)"
      ]
     },
     "execution_count": 14,
     "metadata": {},
     "output_type": "execute_result"
    }
   ],
   "source": [
    "fichero_peliculas[\"Released_Year\"].unique()"
   ]
  },
  {
   "cell_type": "code",
   "execution_count": 15,
   "metadata": {},
   "outputs": [
    {
     "data": {
      "text/plain": [
       "2014    32\n",
       "2004    31\n",
       "2009    29\n",
       "2013    28\n",
       "2016    28\n",
       "        ..\n",
       "1926     1\n",
       "1936     1\n",
       "1924     1\n",
       "1921     1\n",
       "PG       1\n",
       "Name: Released_Year, Length: 100, dtype: int64"
      ]
     },
     "execution_count": 15,
     "metadata": {},
     "output_type": "execute_result"
    }
   ],
   "source": [
    "fichero_peliculas[\"Released_Year\"].value_counts()\n",
    "\n",
    "# Observamos que los datos del año de lanzamiento están en obj. asi que lo cambiamos a int con el método Apply. Vimos que había una película solo con el valor PG\n",
    "# que corresponde a la película Apollo 13 y, al ser solo un dato, decidimos buscarlo y cambiarlo en la función."
   ]
  },
  {
   "cell_type": "code",
   "execution_count": 16,
   "metadata": {},
   "outputs": [],
   "source": [
    "def año_a_int(column):\n",
    "    try:\n",
    "        return pd.to_numeric(column)\n",
    "    except:\n",
    "        return 1995\n",
    "\n",
    "fichero_peliculas[\"Year\"] = (fichero_peliculas[\"Released_Year\"].apply(año_a_int))\n",
    "# Ponemos diractamente 1995 porque sabemos que solo tenemos un caso donde falla que es en la película \"Apolo 13\", lanzada en el año 1995"
   ]
  },
  {
   "cell_type": "code",
   "execution_count": 17,
   "metadata": {},
   "outputs": [
    {
     "name": "stdout",
     "output_type": "stream",
     "text": [
      "<class 'pandas.core.frame.DataFrame'>\n",
      "RangeIndex: 1000 entries, 0 to 999\n",
      "Data columns (total 17 columns):\n",
      " #   Column         Non-Null Count  Dtype  \n",
      "---  ------         --------------  -----  \n",
      " 0   Poster_Link    1000 non-null   object \n",
      " 1   Series_Title   1000 non-null   object \n",
      " 2   Released_Year  1000 non-null   object \n",
      " 3   Certificate    899 non-null    object \n",
      " 4   Runtime        1000 non-null   object \n",
      " 5   Genre          1000 non-null   object \n",
      " 6   IMDB_Rating    1000 non-null   float64\n",
      " 7   Overview       1000 non-null   object \n",
      " 8   Meta_score     843 non-null    float64\n",
      " 9   Director       1000 non-null   object \n",
      " 10  Star1          1000 non-null   object \n",
      " 11  Star2          1000 non-null   object \n",
      " 12  Star3          1000 non-null   object \n",
      " 13  Star4          1000 non-null   object \n",
      " 14  No_of_Votes    1000 non-null   int64  \n",
      " 15  Gross          831 non-null    object \n",
      " 16  Year           1000 non-null   int64  \n",
      "dtypes: float64(2), int64(2), object(13)\n",
      "memory usage: 132.9+ KB\n"
     ]
    }
   ],
   "source": [
    "# comprobamos que el dato de la nueva columna es int\n",
    "fichero_peliculas.info()"
   ]
  },
  {
   "cell_type": "code",
   "execution_count": 18,
   "metadata": {},
   "outputs": [
    {
     "data": {
      "text/html": [
       "<div>\n",
       "<style scoped>\n",
       "    .dataframe tbody tr th:only-of-type {\n",
       "        vertical-align: middle;\n",
       "    }\n",
       "\n",
       "    .dataframe tbody tr th {\n",
       "        vertical-align: top;\n",
       "    }\n",
       "\n",
       "    .dataframe thead th {\n",
       "        text-align: right;\n",
       "    }\n",
       "</style>\n",
       "<table border=\"1\" class=\"dataframe\">\n",
       "  <thead>\n",
       "    <tr style=\"text-align: right;\">\n",
       "      <th></th>\n",
       "      <th>Poster_Link</th>\n",
       "      <th>Series_Title</th>\n",
       "      <th>Released_Year</th>\n",
       "      <th>Certificate</th>\n",
       "      <th>Runtime</th>\n",
       "      <th>Genre</th>\n",
       "      <th>IMDB_Rating</th>\n",
       "      <th>Overview</th>\n",
       "      <th>Meta_score</th>\n",
       "      <th>Director</th>\n",
       "      <th>Star1</th>\n",
       "      <th>Star2</th>\n",
       "      <th>Star3</th>\n",
       "      <th>Star4</th>\n",
       "      <th>No_of_Votes</th>\n",
       "      <th>Gross</th>\n",
       "      <th>Year</th>\n",
       "    </tr>\n",
       "  </thead>\n",
       "  <tbody>\n",
       "    <tr>\n",
       "      <th>388</th>\n",
       "      <td>https://m.media-amazon.com/images/M/MV5BMjE3ZD...</td>\n",
       "      <td>Central do Brasil</td>\n",
       "      <td>1998</td>\n",
       "      <td>R</td>\n",
       "      <td>110 min</td>\n",
       "      <td>Drama</td>\n",
       "      <td>8.0</td>\n",
       "      <td>An emotive journey of a former school teacher,...</td>\n",
       "      <td>80.0</td>\n",
       "      <td>Walter Salles</td>\n",
       "      <td>Fernanda Montenegro</td>\n",
       "      <td>VinÃ­cius de Oliveira</td>\n",
       "      <td>MarÃ­lia PÃªra</td>\n",
       "      <td>Soia Lira</td>\n",
       "      <td>36419</td>\n",
       "      <td>5,595,428</td>\n",
       "      <td>1998</td>\n",
       "    </tr>\n",
       "  </tbody>\n",
       "</table>\n",
       "</div>"
      ],
      "text/plain": [
       "                                           Poster_Link       Series_Title  \\\n",
       "388  https://m.media-amazon.com/images/M/MV5BMjE3ZD...  Central do Brasil   \n",
       "\n",
       "    Released_Year Certificate  Runtime  Genre  IMDB_Rating  \\\n",
       "388          1998           R  110 min  Drama          8.0   \n",
       "\n",
       "                                              Overview  Meta_score  \\\n",
       "388  An emotive journey of a former school teacher,...        80.0   \n",
       "\n",
       "          Director                Star1                  Star2  \\\n",
       "388  Walter Salles  Fernanda Montenegro  VinÃ­cius de Oliveira   \n",
       "\n",
       "              Star3      Star4  No_of_Votes      Gross  Year  \n",
       "388  MarÃ­lia PÃªra  Soia Lira        36419  5,595,428  1998  "
      ]
     },
     "execution_count": 18,
     "metadata": {},
     "output_type": "execute_result"
    }
   ],
   "source": [
    "fichero_peliculas.sample()"
   ]
  },
  {
   "cell_type": "code",
   "execution_count": 19,
   "metadata": {},
   "outputs": [
    {
     "data": {
      "text/html": [
       "<div>\n",
       "<style scoped>\n",
       "    .dataframe tbody tr th:only-of-type {\n",
       "        vertical-align: middle;\n",
       "    }\n",
       "\n",
       "    .dataframe tbody tr th {\n",
       "        vertical-align: top;\n",
       "    }\n",
       "\n",
       "    .dataframe thead th {\n",
       "        text-align: right;\n",
       "    }\n",
       "</style>\n",
       "<table border=\"1\" class=\"dataframe\">\n",
       "  <thead>\n",
       "    <tr style=\"text-align: right;\">\n",
       "      <th></th>\n",
       "      <th>Poster_Link</th>\n",
       "      <th>Series_Title</th>\n",
       "      <th>Released_Year</th>\n",
       "      <th>Certificate</th>\n",
       "      <th>Runtime</th>\n",
       "      <th>Genre</th>\n",
       "      <th>IMDB_Rating</th>\n",
       "      <th>Overview</th>\n",
       "      <th>Meta_score</th>\n",
       "      <th>Director</th>\n",
       "      <th>Star1</th>\n",
       "      <th>Star2</th>\n",
       "      <th>Star3</th>\n",
       "      <th>Star4</th>\n",
       "      <th>No_of_Votes</th>\n",
       "      <th>Gross</th>\n",
       "      <th>Year</th>\n",
       "    </tr>\n",
       "  </thead>\n",
       "  <tbody>\n",
       "    <tr>\n",
       "      <th>966</th>\n",
       "      <td>https://m.media-amazon.com/images/M/MV5BNjEzYj...</td>\n",
       "      <td>Apollo 13</td>\n",
       "      <td>PG</td>\n",
       "      <td>U</td>\n",
       "      <td>140 min</td>\n",
       "      <td>Adventure, Drama, History</td>\n",
       "      <td>7.6</td>\n",
       "      <td>NASA must devise a strategy to return Apollo 1...</td>\n",
       "      <td>77.0</td>\n",
       "      <td>Ron Howard</td>\n",
       "      <td>Tom Hanks</td>\n",
       "      <td>Bill Paxton</td>\n",
       "      <td>Kevin Bacon</td>\n",
       "      <td>Gary Sinise</td>\n",
       "      <td>269197</td>\n",
       "      <td>173,837,933</td>\n",
       "      <td>1995</td>\n",
       "    </tr>\n",
       "  </tbody>\n",
       "</table>\n",
       "</div>"
      ],
      "text/plain": [
       "                                           Poster_Link Series_Title  \\\n",
       "966  https://m.media-amazon.com/images/M/MV5BNjEzYj...    Apollo 13   \n",
       "\n",
       "    Released_Year Certificate  Runtime                      Genre  \\\n",
       "966            PG           U  140 min  Adventure, Drama, History   \n",
       "\n",
       "     IMDB_Rating                                           Overview  \\\n",
       "966          7.6  NASA must devise a strategy to return Apollo 1...   \n",
       "\n",
       "     Meta_score    Director      Star1        Star2        Star3        Star4  \\\n",
       "966        77.0  Ron Howard  Tom Hanks  Bill Paxton  Kevin Bacon  Gary Sinise   \n",
       "\n",
       "     No_of_Votes        Gross  Year  \n",
       "966       269197  173,837,933  1995  "
      ]
     },
     "execution_count": 19,
     "metadata": {},
     "output_type": "execute_result"
    }
   ],
   "source": [
    "# Comprobamos que la Apollo 13 ha cambiado su valor al año correspondiente.\n",
    "fichero_peliculas[fichero_peliculas[\"Series_Title\"]== \"Apollo 13\"]"
   ]
  },
  {
   "cell_type": "code",
   "execution_count": 20,
   "metadata": {},
   "outputs": [],
   "source": [
    "# Como tenemos muchos datos decidimos categorizar todas las películas por décadas\n",
    "\n",
    "def decadas(column):\n",
    "    if 1920 < column <= 1929:\n",
    "        return 1920\n",
    "    elif 1930 < column <= 1939:\n",
    "        return 1930\n",
    "    elif 1940 < column <= 1949:\n",
    "        return 1940\n",
    "    elif 1950 < column <= 1959:\n",
    "        return 1950\n",
    "    elif 1960 < column <= 1969:\n",
    "        return 1960\n",
    "    elif 1970 < column <= 1979:\n",
    "        return 1970\n",
    "    elif 1980 < column <= 1989:\n",
    "        return 1980\n",
    "    elif 1990 < column <= 1999:\n",
    "        return 1990\n",
    "    elif 2000 < column <= 2009:\n",
    "        return 2000\n",
    "    elif 2010 < column <= 2020:\n",
    "        return 2010\n",
    "\n",
    "fichero_peliculas[\"Decada\"] = (fichero_peliculas[\"Year\"].apply(decadas))"
   ]
  },
  {
   "cell_type": "code",
   "execution_count": 21,
   "metadata": {},
   "outputs": [
    {
     "data": {
      "text/html": [
       "<div>\n",
       "<style scoped>\n",
       "    .dataframe tbody tr th:only-of-type {\n",
       "        vertical-align: middle;\n",
       "    }\n",
       "\n",
       "    .dataframe tbody tr th {\n",
       "        vertical-align: top;\n",
       "    }\n",
       "\n",
       "    .dataframe thead th {\n",
       "        text-align: right;\n",
       "    }\n",
       "</style>\n",
       "<table border=\"1\" class=\"dataframe\">\n",
       "  <thead>\n",
       "    <tr style=\"text-align: right;\">\n",
       "      <th></th>\n",
       "      <th>Poster_Link</th>\n",
       "      <th>Series_Title</th>\n",
       "      <th>Released_Year</th>\n",
       "      <th>Certificate</th>\n",
       "      <th>Runtime</th>\n",
       "      <th>Genre</th>\n",
       "      <th>IMDB_Rating</th>\n",
       "      <th>Overview</th>\n",
       "      <th>Meta_score</th>\n",
       "      <th>Director</th>\n",
       "      <th>Star1</th>\n",
       "      <th>Star2</th>\n",
       "      <th>Star3</th>\n",
       "      <th>Star4</th>\n",
       "      <th>No_of_Votes</th>\n",
       "      <th>Gross</th>\n",
       "      <th>Year</th>\n",
       "      <th>Decada</th>\n",
       "    </tr>\n",
       "  </thead>\n",
       "  <tbody>\n",
       "    <tr>\n",
       "      <th>5</th>\n",
       "      <td>https://m.media-amazon.com/images/M/MV5BNzA5ZD...</td>\n",
       "      <td>The Lord of the Rings: The Return of the King</td>\n",
       "      <td>2003</td>\n",
       "      <td>U</td>\n",
       "      <td>201 min</td>\n",
       "      <td>Action, Adventure, Drama</td>\n",
       "      <td>8.9</td>\n",
       "      <td>Gandalf and Aragorn lead the World of Men agai...</td>\n",
       "      <td>94.0</td>\n",
       "      <td>Peter Jackson</td>\n",
       "      <td>Elijah Wood</td>\n",
       "      <td>Viggo Mortensen</td>\n",
       "      <td>Ian McKellen</td>\n",
       "      <td>Orlando Bloom</td>\n",
       "      <td>1642758</td>\n",
       "      <td>377,845,905</td>\n",
       "      <td>2003</td>\n",
       "      <td>2000.0</td>\n",
       "    </tr>\n",
       "  </tbody>\n",
       "</table>\n",
       "</div>"
      ],
      "text/plain": [
       "                                         Poster_Link  \\\n",
       "5  https://m.media-amazon.com/images/M/MV5BNzA5ZD...   \n",
       "\n",
       "                                    Series_Title Released_Year Certificate  \\\n",
       "5  The Lord of the Rings: The Return of the King          2003           U   \n",
       "\n",
       "   Runtime                     Genre  IMDB_Rating  \\\n",
       "5  201 min  Action, Adventure, Drama          8.9   \n",
       "\n",
       "                                            Overview  Meta_score  \\\n",
       "5  Gandalf and Aragorn lead the World of Men agai...        94.0   \n",
       "\n",
       "        Director        Star1            Star2         Star3          Star4  \\\n",
       "5  Peter Jackson  Elijah Wood  Viggo Mortensen  Ian McKellen  Orlando Bloom   \n",
       "\n",
       "   No_of_Votes        Gross  Year  Decada  \n",
       "5      1642758  377,845,905  2003  2000.0  "
      ]
     },
     "execution_count": 21,
     "metadata": {},
     "output_type": "execute_result"
    }
   ],
   "source": [
    "fichero_peliculas.sample()"
   ]
  },
  {
   "cell_type": "code",
   "execution_count": 22,
   "metadata": {},
   "outputs": [
    {
     "data": {
      "image/png": "[encoded data removed]",
      "text/plain": [
       "<Figure size 1080x360 with 1 Axes>"
      ]
     },
     "metadata": {
      "needs_background": "light"
     },
     "output_type": "display_data"
    }
   ],
   "source": [
    "# Creamos una gráfica para visualizar el nº de películas por década\n",
    "\n",
    "plt.figure(figsize=(15,5))\n",
    "\n",
    "fig = sns.histplot(x= \"Decada\", data=fichero_peliculas, )\n",
    "\n",
    "fig.set(xlabel= \"Década\", ylabel= \"Nº Películas\")\n",
    "\n",
    "plt.grid(color=\"grey\")\n",
    "\n",
    "fig.set_title(\"Películas por década\")\n",
    "\n",
    "plt.show();\n",
    "\n",
    "# Vemos que en la década del 2010 es la que más películas tiene, cosa que valoramos lógica por los avances tecnológicos e inversión en la industria del entretenimiento.\n",
    "# Vemos que la década de 1920 es la que menos tiene, que por el argumento que acabamos de mencionar sigue teniendo lógica, ya que en los 20 eran los inicios del cine."
   ]
  },
  {
   "attachments": {},
   "cell_type": "markdown",
   "metadata": {},
   "source": [
    "- ¿Cuál es la estrella principal que más aparece en la década más famosa?"
   ]
  },
  {
   "cell_type": "code",
   "execution_count": 23,
   "metadata": {},
   "outputs": [
    {
     "data": {
      "text/html": [
       "<div>\n",
       "<style scoped>\n",
       "    .dataframe tbody tr th:only-of-type {\n",
       "        vertical-align: middle;\n",
       "    }\n",
       "\n",
       "    .dataframe tbody tr th {\n",
       "        vertical-align: top;\n",
       "    }\n",
       "\n",
       "    .dataframe thead th {\n",
       "        text-align: right;\n",
       "    }\n",
       "</style>\n",
       "<table border=\"1\" class=\"dataframe\">\n",
       "  <thead>\n",
       "    <tr style=\"text-align: right;\">\n",
       "      <th></th>\n",
       "      <th>index</th>\n",
       "      <th>Star1</th>\n",
       "    </tr>\n",
       "  </thead>\n",
       "  <tbody>\n",
       "    <tr>\n",
       "      <th>0</th>\n",
       "      <td>Joe Russo</td>\n",
       "      <td>4</td>\n",
       "    </tr>\n",
       "    <tr>\n",
       "      <th>1</th>\n",
       "      <td>Tom Hanks</td>\n",
       "      <td>3</td>\n",
       "    </tr>\n",
       "    <tr>\n",
       "      <th>2</th>\n",
       "      <td>Daniel Craig</td>\n",
       "      <td>3</td>\n",
       "    </tr>\n",
       "    <tr>\n",
       "      <th>3</th>\n",
       "      <td>Matthew McConaughey</td>\n",
       "      <td>3</td>\n",
       "    </tr>\n",
       "    <tr>\n",
       "      <th>4</th>\n",
       "      <td>Irrfan Khan</td>\n",
       "      <td>3</td>\n",
       "    </tr>\n",
       "    <tr>\n",
       "      <th>5</th>\n",
       "      <td>Akshay Kumar</td>\n",
       "      <td>3</td>\n",
       "    </tr>\n",
       "    <tr>\n",
       "      <th>6</th>\n",
       "      <td>Ayushmann Khurrana</td>\n",
       "      <td>3</td>\n",
       "    </tr>\n",
       "    <tr>\n",
       "      <th>7</th>\n",
       "      <td>Leonardo DiCaprio</td>\n",
       "      <td>3</td>\n",
       "    </tr>\n",
       "    <tr>\n",
       "      <th>8</th>\n",
       "      <td>Sushant Singh Rajput</td>\n",
       "      <td>3</td>\n",
       "    </tr>\n",
       "    <tr>\n",
       "      <th>9</th>\n",
       "      <td>Mads Mikkelsen</td>\n",
       "      <td>2</td>\n",
       "    </tr>\n",
       "  </tbody>\n",
       "</table>\n",
       "</div>"
      ],
      "text/plain": [
       "                  index  Star1\n",
       "0             Joe Russo      4\n",
       "1             Tom Hanks      3\n",
       "2          Daniel Craig      3\n",
       "3   Matthew McConaughey      3\n",
       "4           Irrfan Khan      3\n",
       "5          Akshay Kumar      3\n",
       "6    Ayushmann Khurrana      3\n",
       "7     Leonardo DiCaprio      3\n",
       "8  Sushant Singh Rajput      3\n",
       "9        Mads Mikkelsen      2"
      ]
     },
     "execution_count": 23,
     "metadata": {},
     "output_type": "execute_result"
    }
   ],
   "source": [
    "decada_2010 = fichero_peliculas[fichero_peliculas[\"Decada\"]== 2010]\n",
    "actor2010 = pd.DataFrame(decada_2010[\"Star1\"].value_counts()[:10].reset_index())\n",
    "actor2010"
   ]
  },
  {
   "cell_type": "code",
   "execution_count": 24,
   "metadata": {},
   "outputs": [
    {
     "data": {
      "image/png": "[encoded data removed]",
      "text/plain": [
       "<Figure size 720x360 with 1 Axes>"
      ]
     },
     "metadata": {
      "needs_background": "light"
     },
     "output_type": "display_data"
    }
   ],
   "source": [
    "x = actor2010[\"index\"]\n",
    "y = actor2010[\"Star1\"]\n",
    "\n",
    "plt.figure(figsize=(10,5))\n",
    "\n",
    "plt.barh( x, y)\n",
    "\n",
    "fig.set_title(\"Actores con más apariciones en películas de la década 2010\")\n",
    "\n",
    "plt.show();"
   ]
  },
  {
   "cell_type": "code",
   "execution_count": 25,
   "metadata": {},
   "outputs": [],
   "source": [
    "# Vemos que el \"actor\" con más apariciones en la década del 2010 es Joe Russo, que paradojicamente es un director de cine. Dejamos el link por si da curiosidad\n",
    "# https://www.imdb.com/name/nm0751648/"
   ]
  },
  {
   "attachments": {},
   "cell_type": "markdown",
   "metadata": {},
   "source": [
    "- ¿Qué película tiene la puntuación más alta de MetaScore en la década más famosa? ¿Y la más baja?\n"
   ]
  },
  {
   "cell_type": "code",
   "execution_count": 26,
   "metadata": {},
   "outputs": [
    {
     "data": {
      "text/plain": [
       "100.0"
      ]
     },
     "execution_count": 26,
     "metadata": {},
     "output_type": "execute_result"
    }
   ],
   "source": [
    "decada_2010[\"Meta_score\"].max()\n"
   ]
  },
  {
   "cell_type": "code",
   "execution_count": 27,
   "metadata": {},
   "outputs": [
    {
     "data": {
      "text/html": [
       "<div>\n",
       "<style scoped>\n",
       "    .dataframe tbody tr th:only-of-type {\n",
       "        vertical-align: middle;\n",
       "    }\n",
       "\n",
       "    .dataframe tbody tr th {\n",
       "        vertical-align: top;\n",
       "    }\n",
       "\n",
       "    .dataframe thead th {\n",
       "        text-align: right;\n",
       "    }\n",
       "</style>\n",
       "<table border=\"1\" class=\"dataframe\">\n",
       "  <thead>\n",
       "    <tr style=\"text-align: right;\">\n",
       "      <th></th>\n",
       "      <th>Poster_Link</th>\n",
       "      <th>Series_Title</th>\n",
       "      <th>Released_Year</th>\n",
       "      <th>Certificate</th>\n",
       "      <th>Runtime</th>\n",
       "      <th>Genre</th>\n",
       "      <th>IMDB_Rating</th>\n",
       "      <th>Overview</th>\n",
       "      <th>Meta_score</th>\n",
       "      <th>Director</th>\n",
       "      <th>Star1</th>\n",
       "      <th>Star2</th>\n",
       "      <th>Star3</th>\n",
       "      <th>Star4</th>\n",
       "      <th>No_of_Votes</th>\n",
       "      <th>Gross</th>\n",
       "      <th>Year</th>\n",
       "      <th>Decada</th>\n",
       "    </tr>\n",
       "  </thead>\n",
       "  <tbody>\n",
       "    <tr>\n",
       "      <th>491</th>\n",
       "      <td>https://m.media-amazon.com/images/M/MV5BMTYzND...</td>\n",
       "      <td>Boyhood</td>\n",
       "      <td>2014</td>\n",
       "      <td>A</td>\n",
       "      <td>165 min</td>\n",
       "      <td>Drama</td>\n",
       "      <td>7.9</td>\n",
       "      <td>The life of Mason, from early childhood to his...</td>\n",
       "      <td>100.0</td>\n",
       "      <td>Richard Linklater</td>\n",
       "      <td>Ellar Coltrane</td>\n",
       "      <td>Patricia Arquette</td>\n",
       "      <td>Ethan Hawke</td>\n",
       "      <td>Elijah Smith</td>\n",
       "      <td>335533</td>\n",
       "      <td>25,379,975</td>\n",
       "      <td>2014</td>\n",
       "      <td>2010.0</td>\n",
       "    </tr>\n",
       "  </tbody>\n",
       "</table>\n",
       "</div>"
      ],
      "text/plain": [
       "                                           Poster_Link Series_Title  \\\n",
       "491  https://m.media-amazon.com/images/M/MV5BMTYzND...      Boyhood   \n",
       "\n",
       "    Released_Year Certificate  Runtime  Genre  IMDB_Rating  \\\n",
       "491          2014           A  165 min  Drama          7.9   \n",
       "\n",
       "                                              Overview  Meta_score  \\\n",
       "491  The life of Mason, from early childhood to his...       100.0   \n",
       "\n",
       "              Director           Star1              Star2        Star3  \\\n",
       "491  Richard Linklater  Ellar Coltrane  Patricia Arquette  Ethan Hawke   \n",
       "\n",
       "            Star4  No_of_Votes       Gross  Year  Decada  \n",
       "491  Elijah Smith       335533  25,379,975  2014  2010.0  "
      ]
     },
     "execution_count": 27,
     "metadata": {},
     "output_type": "execute_result"
    }
   ],
   "source": [
    "decada_2010[decada_2010[\"Meta_score\"]== 100]\n",
    "\n",
    "# La película con más puntuación es Boyhood"
   ]
  },
  {
   "cell_type": "code",
   "execution_count": 28,
   "metadata": {},
   "outputs": [
    {
     "data": {
      "text/plain": [
       "40.0"
      ]
     },
     "execution_count": 28,
     "metadata": {},
     "output_type": "execute_result"
    }
   ],
   "source": [
    "decada_2010[\"Meta_score\"].min()\n"
   ]
  },
  {
   "cell_type": "code",
   "execution_count": 29,
   "metadata": {},
   "outputs": [
    {
     "data": {
      "text/html": [
       "<div>\n",
       "<style scoped>\n",
       "    .dataframe tbody tr th:only-of-type {\n",
       "        vertical-align: middle;\n",
       "    }\n",
       "\n",
       "    .dataframe tbody tr th {\n",
       "        vertical-align: top;\n",
       "    }\n",
       "\n",
       "    .dataframe thead th {\n",
       "        text-align: right;\n",
       "    }\n",
       "</style>\n",
       "<table border=\"1\" class=\"dataframe\">\n",
       "  <thead>\n",
       "    <tr style=\"text-align: right;\">\n",
       "      <th></th>\n",
       "      <th>Poster_Link</th>\n",
       "      <th>Series_Title</th>\n",
       "      <th>Released_Year</th>\n",
       "      <th>Certificate</th>\n",
       "      <th>Runtime</th>\n",
       "      <th>Genre</th>\n",
       "      <th>IMDB_Rating</th>\n",
       "      <th>Overview</th>\n",
       "      <th>Meta_score</th>\n",
       "      <th>Director</th>\n",
       "      <th>Star1</th>\n",
       "      <th>Star2</th>\n",
       "      <th>Star3</th>\n",
       "      <th>Star4</th>\n",
       "      <th>No_of_Votes</th>\n",
       "      <th>Gross</th>\n",
       "      <th>Year</th>\n",
       "      <th>Decada</th>\n",
       "    </tr>\n",
       "  </thead>\n",
       "  <tbody>\n",
       "    <tr>\n",
       "      <th>735</th>\n",
       "      <td>https://m.media-amazon.com/images/M/MV5BMTgwNT...</td>\n",
       "      <td>Kai po che!</td>\n",
       "      <td>2013</td>\n",
       "      <td>U</td>\n",
       "      <td>130 min</td>\n",
       "      <td>Drama, Sport</td>\n",
       "      <td>7.7</td>\n",
       "      <td>Three friends growing up in India at the turn ...</td>\n",
       "      <td>40.0</td>\n",
       "      <td>Abhishek Kapoor</td>\n",
       "      <td>Amit Sadh</td>\n",
       "      <td>Sushant Singh Rajput</td>\n",
       "      <td>Rajkummar Rao</td>\n",
       "      <td>Amrita Puri</td>\n",
       "      <td>32628</td>\n",
       "      <td>1,122,527</td>\n",
       "      <td>2013</td>\n",
       "      <td>2010.0</td>\n",
       "    </tr>\n",
       "  </tbody>\n",
       "</table>\n",
       "</div>"
      ],
      "text/plain": [
       "                                           Poster_Link Series_Title  \\\n",
       "735  https://m.media-amazon.com/images/M/MV5BMTgwNT...  Kai po che!   \n",
       "\n",
       "    Released_Year Certificate  Runtime         Genre  IMDB_Rating  \\\n",
       "735          2013           U  130 min  Drama, Sport          7.7   \n",
       "\n",
       "                                              Overview  Meta_score  \\\n",
       "735  Three friends growing up in India at the turn ...        40.0   \n",
       "\n",
       "            Director      Star1                 Star2          Star3  \\\n",
       "735  Abhishek Kapoor  Amit Sadh  Sushant Singh Rajput  Rajkummar Rao   \n",
       "\n",
       "           Star4  No_of_Votes      Gross  Year  Decada  \n",
       "735  Amrita Puri        32628  1,122,527  2013  2010.0  "
      ]
     },
     "execution_count": 29,
     "metadata": {},
     "output_type": "execute_result"
    }
   ],
   "source": [
    "decada_2010[decada_2010[\"Meta_score\"]== 40]\n",
    "\n",
    "# La película con menos puntuación es Kai po che!"
   ]
  },
  {
   "cell_type": "code",
   "execution_count": 30,
   "metadata": {},
   "outputs": [
    {
     "data": {
      "image/png": "[encoded data removed]",
      "text/plain": [
       "<Figure size 1080x360 with 1 Axes>"
      ]
     },
     "metadata": {
      "needs_background": "light"
     },
     "output_type": "display_data"
    }
   ],
   "source": [
    "plt.figure(figsize=(15,5))\n",
    "\n",
    "fig = sns.histplot(x= \"Meta_score\", data=decada_2010, )\n",
    "\n",
    "fig.set(xlabel= \"Puntuación\", ylabel= \"Nº Películas\")\n",
    "\n",
    "plt.grid(color=\"grey\")\n",
    "\n",
    "fig.set_title(\"Puntuaciones por películas en la década 2010\")\n",
    "\n",
    "plt.show();\n",
    "\n",
    "#Sacamos un histograma de las puntuaciones para ver cuales son las puntuaciones más comunes para las películas de la década del 2010."
   ]
  },
  {
   "attachments": {},
   "cell_type": "markdown",
   "metadata": {},
   "source": [
    "- ¿Cuál es la puntuación media? ¿Qué películas están en ese rango?\n"
   ]
  },
  {
   "cell_type": "code",
   "execution_count": 31,
   "metadata": {},
   "outputs": [
    {
     "data": {
      "text/plain": [
       "77.90810810810811"
      ]
     },
     "execution_count": 31,
     "metadata": {},
     "output_type": "execute_result"
    }
   ],
   "source": [
    "media = decada_2010[\"Meta_score\"].mean()\n",
    "media"
   ]
  },
  {
   "cell_type": "code",
   "execution_count": 32,
   "metadata": {},
   "outputs": [
    {
     "data": {
      "text/html": [
       "<div>\n",
       "<style scoped>\n",
       "    .dataframe tbody tr th:only-of-type {\n",
       "        vertical-align: middle;\n",
       "    }\n",
       "\n",
       "    .dataframe tbody tr th {\n",
       "        vertical-align: top;\n",
       "    }\n",
       "\n",
       "    .dataframe thead th {\n",
       "        text-align: right;\n",
       "    }\n",
       "</style>\n",
       "<table border=\"1\" class=\"dataframe\">\n",
       "  <thead>\n",
       "    <tr style=\"text-align: right;\">\n",
       "      <th></th>\n",
       "      <th>Poster_Link</th>\n",
       "      <th>Series_Title</th>\n",
       "      <th>Released_Year</th>\n",
       "      <th>Certificate</th>\n",
       "      <th>Runtime</th>\n",
       "      <th>Genre</th>\n",
       "      <th>IMDB_Rating</th>\n",
       "      <th>Overview</th>\n",
       "      <th>Meta_score</th>\n",
       "      <th>Director</th>\n",
       "      <th>Star1</th>\n",
       "      <th>Star2</th>\n",
       "      <th>Star3</th>\n",
       "      <th>Star4</th>\n",
       "      <th>No_of_Votes</th>\n",
       "      <th>Gross</th>\n",
       "      <th>Year</th>\n",
       "      <th>Decada</th>\n",
       "    </tr>\n",
       "  </thead>\n",
       "  <tbody>\n",
       "    <tr>\n",
       "      <th>59</th>\n",
       "      <td>https://m.media-amazon.com/images/M/MV5BMTc5MD...</td>\n",
       "      <td>Avengers: Endgame</td>\n",
       "      <td>2019</td>\n",
       "      <td>UA</td>\n",
       "      <td>181 min</td>\n",
       "      <td>Action, Adventure, Drama</td>\n",
       "      <td>8.4</td>\n",
       "      <td>After the devastating events of Avengers: Infi...</td>\n",
       "      <td>78.0</td>\n",
       "      <td>Anthony Russo</td>\n",
       "      <td>Joe Russo</td>\n",
       "      <td>Robert Downey Jr.</td>\n",
       "      <td>Chris Evans</td>\n",
       "      <td>Mark Ruffalo</td>\n",
       "      <td>809955</td>\n",
       "      <td>858,373,000</td>\n",
       "      <td>2019</td>\n",
       "      <td>2010.0</td>\n",
       "    </tr>\n",
       "    <tr>\n",
       "      <th>63</th>\n",
       "      <td>https://m.media-amazon.com/images/M/MV5BMTk4OD...</td>\n",
       "      <td>The Dark Knight Rises</td>\n",
       "      <td>2012</td>\n",
       "      <td>UA</td>\n",
       "      <td>164 min</td>\n",
       "      <td>Action, Adventure</td>\n",
       "      <td>8.4</td>\n",
       "      <td>Eight years after the Joker's reign of anarchy...</td>\n",
       "      <td>78.0</td>\n",
       "      <td>Christopher Nolan</td>\n",
       "      <td>Christian Bale</td>\n",
       "      <td>Tom Hardy</td>\n",
       "      <td>Anne Hathaway</td>\n",
       "      <td>Gary Oldman</td>\n",
       "      <td>1516346</td>\n",
       "      <td>448,139,099</td>\n",
       "      <td>2012</td>\n",
       "      <td>2010.0</td>\n",
       "    </tr>\n",
       "    <tr>\n",
       "      <th>84</th>\n",
       "      <td>https://m.media-amazon.com/images/M/MV5BOTdmNT...</td>\n",
       "      <td>1917</td>\n",
       "      <td>2019</td>\n",
       "      <td>R</td>\n",
       "      <td>119 min</td>\n",
       "      <td>Drama, Thriller, War</td>\n",
       "      <td>8.3</td>\n",
       "      <td>April 6th, 1917. As a regiment assembles to wa...</td>\n",
       "      <td>78.0</td>\n",
       "      <td>Sam Mendes</td>\n",
       "      <td>Dean-Charles Chapman</td>\n",
       "      <td>George MacKay</td>\n",
       "      <td>Daniel Mays</td>\n",
       "      <td>Colin Firth</td>\n",
       "      <td>425844</td>\n",
       "      <td>159,227,644</td>\n",
       "      <td>2019</td>\n",
       "      <td>2010.0</td>\n",
       "    </tr>\n",
       "    <tr>\n",
       "      <th>88</th>\n",
       "      <td>https://m.media-amazon.com/images/M/MV5BMTg2ND...</td>\n",
       "      <td>Jagten</td>\n",
       "      <td>2012</td>\n",
       "      <td>R</td>\n",
       "      <td>115 min</td>\n",
       "      <td>Drama</td>\n",
       "      <td>8.3</td>\n",
       "      <td>A teacher lives a lonely life, all the while s...</td>\n",
       "      <td>77.0</td>\n",
       "      <td>Thomas Vinterberg</td>\n",
       "      <td>Mads Mikkelsen</td>\n",
       "      <td>Thomas Bo Larsen</td>\n",
       "      <td>Annika Wedderkopp</td>\n",
       "      <td>Lasse FogelstrÃ¸m</td>\n",
       "      <td>281623</td>\n",
       "      <td>687,185</td>\n",
       "      <td>2012</td>\n",
       "      <td>2010.0</td>\n",
       "    </tr>\n",
       "    <tr>\n",
       "      <th>197</th>\n",
       "      <td>https://m.media-amazon.com/images/M/MV5BZGRkOG...</td>\n",
       "      <td>Koe no katachi</td>\n",
       "      <td>2016</td>\n",
       "      <td>16</td>\n",
       "      <td>130 min</td>\n",
       "      <td>Animation, Drama, Family</td>\n",
       "      <td>8.1</td>\n",
       "      <td>A young man is ostracized by his classmates af...</td>\n",
       "      <td>78.0</td>\n",
       "      <td>Naoko Yamada</td>\n",
       "      <td>Miyu Irino</td>\n",
       "      <td>Saori Hayami</td>\n",
       "      <td>Aoi YÃ»ki</td>\n",
       "      <td>KenshÃ´ Ono</td>\n",
       "      <td>47708</td>\n",
       "      <td>NaN</td>\n",
       "      <td>2016</td>\n",
       "      <td>2010.0</td>\n",
       "    </tr>\n",
       "    <tr>\n",
       "      <th>202</th>\n",
       "      <td>https://m.media-amazon.com/images/M/MV5BYzc5MT...</td>\n",
       "      <td>Logan</td>\n",
       "      <td>2017</td>\n",
       "      <td>A</td>\n",
       "      <td>137 min</td>\n",
       "      <td>Action, Drama, Sci-Fi</td>\n",
       "      <td>8.1</td>\n",
       "      <td>In a future where mutants are nearly extinct, ...</td>\n",
       "      <td>77.0</td>\n",
       "      <td>James Mangold</td>\n",
       "      <td>Hugh Jackman</td>\n",
       "      <td>Patrick Stewart</td>\n",
       "      <td>Dafne Keen</td>\n",
       "      <td>Boyd Holbrook</td>\n",
       "      <td>647884</td>\n",
       "      <td>226,277,068</td>\n",
       "      <td>2017</td>\n",
       "      <td>2010.0</td>\n",
       "    </tr>\n",
       "    <tr>\n",
       "      <th>204</th>\n",
       "      <td>https://m.media-amazon.com/images/M/MV5BNGQzY2...</td>\n",
       "      <td>Relatos salvajes</td>\n",
       "      <td>2014</td>\n",
       "      <td>R</td>\n",
       "      <td>122 min</td>\n",
       "      <td>Comedy, Drama, Thriller</td>\n",
       "      <td>8.1</td>\n",
       "      <td>Six short stories that explore the extremities...</td>\n",
       "      <td>77.0</td>\n",
       "      <td>DamiÃ¡n Szifron</td>\n",
       "      <td>DarÃ­o Grandinetti</td>\n",
       "      <td>MarÃ­a Marull</td>\n",
       "      <td>MÃ³nica Villa</td>\n",
       "      <td>Diego Starosta</td>\n",
       "      <td>177059</td>\n",
       "      <td>3,107,072</td>\n",
       "      <td>2014</td>\n",
       "      <td>2010.0</td>\n",
       "    </tr>\n",
       "    <tr>\n",
       "      <th>330</th>\n",
       "      <td>https://m.media-amazon.com/images/M/MV5BOTMyMj...</td>\n",
       "      <td>Zootopia</td>\n",
       "      <td>2016</td>\n",
       "      <td>U</td>\n",
       "      <td>108 min</td>\n",
       "      <td>Animation, Adventure, Comedy</td>\n",
       "      <td>8.0</td>\n",
       "      <td>In a city of anthropomorphic animals, a rookie...</td>\n",
       "      <td>78.0</td>\n",
       "      <td>Byron Howard</td>\n",
       "      <td>Rich Moore</td>\n",
       "      <td>Jared Bush</td>\n",
       "      <td>Ginnifer Goodwin</td>\n",
       "      <td>Jason Bateman</td>\n",
       "      <td>434143</td>\n",
       "      <td>341,268,248</td>\n",
       "      <td>2016</td>\n",
       "      <td>2010.0</td>\n",
       "    </tr>\n",
       "    <tr>\n",
       "      <th>468</th>\n",
       "      <td>https://m.media-amazon.com/images/M/MV5BMTQ4NT...</td>\n",
       "      <td>I, Daniel Blake</td>\n",
       "      <td>2016</td>\n",
       "      <td>UA</td>\n",
       "      <td>100 min</td>\n",
       "      <td>Drama</td>\n",
       "      <td>7.9</td>\n",
       "      <td>After having suffered a heart-attack, a 59-yea...</td>\n",
       "      <td>78.0</td>\n",
       "      <td>Ken Loach</td>\n",
       "      <td>Laura Obiols</td>\n",
       "      <td>Dave Johns</td>\n",
       "      <td>Hayley Squires</td>\n",
       "      <td>Sharon Percy</td>\n",
       "      <td>53818</td>\n",
       "      <td>258,168</td>\n",
       "      <td>2016</td>\n",
       "      <td>2010.0</td>\n",
       "    </tr>\n",
       "    <tr>\n",
       "      <th>612</th>\n",
       "      <td>https://m.media-amazon.com/images/M/MV5BYjYzOG...</td>\n",
       "      <td>The Trial of the Chicago 7</td>\n",
       "      <td>2020</td>\n",
       "      <td>R</td>\n",
       "      <td>129 min</td>\n",
       "      <td>Drama, History, Thriller</td>\n",
       "      <td>7.8</td>\n",
       "      <td>The story of 7 people on trial stemming from v...</td>\n",
       "      <td>77.0</td>\n",
       "      <td>Aaron Sorkin</td>\n",
       "      <td>Eddie Redmayne</td>\n",
       "      <td>Alex Sharp</td>\n",
       "      <td>Sacha Baron Cohen</td>\n",
       "      <td>Jeremy Strong</td>\n",
       "      <td>89896</td>\n",
       "      <td>NaN</td>\n",
       "      <td>2020</td>\n",
       "      <td>2010.0</td>\n",
       "    </tr>\n",
       "    <tr>\n",
       "      <th>621</th>\n",
       "      <td>https://m.media-amazon.com/images/M/MV5BZjY5Zj...</td>\n",
       "      <td>Drive</td>\n",
       "      <td>2011</td>\n",
       "      <td>A</td>\n",
       "      <td>100 min</td>\n",
       "      <td>Crime, Drama</td>\n",
       "      <td>7.8</td>\n",
       "      <td>A mysterious Hollywood stuntman and mechanic m...</td>\n",
       "      <td>78.0</td>\n",
       "      <td>Nicolas Winding Refn</td>\n",
       "      <td>Ryan Gosling</td>\n",
       "      <td>Carey Mulligan</td>\n",
       "      <td>Bryan Cranston</td>\n",
       "      <td>Albert Brooks</td>\n",
       "      <td>571571</td>\n",
       "      <td>35,061,555</td>\n",
       "      <td>2011</td>\n",
       "      <td>2010.0</td>\n",
       "    </tr>\n",
       "    <tr>\n",
       "      <th>764</th>\n",
       "      <td>https://m.media-amazon.com/images/M/MV5BMTUxNz...</td>\n",
       "      <td>Ex Machina</td>\n",
       "      <td>2014</td>\n",
       "      <td>UA</td>\n",
       "      <td>108 min</td>\n",
       "      <td>Drama, Sci-Fi, Thriller</td>\n",
       "      <td>7.7</td>\n",
       "      <td>A young programmer is selected to participate ...</td>\n",
       "      <td>78.0</td>\n",
       "      <td>Alex Garland</td>\n",
       "      <td>Alicia Vikander</td>\n",
       "      <td>Domhnall Gleeson</td>\n",
       "      <td>Oscar Isaac</td>\n",
       "      <td>Sonoya Mizuno</td>\n",
       "      <td>474141</td>\n",
       "      <td>25,442,958</td>\n",
       "      <td>2014</td>\n",
       "      <td>2010.0</td>\n",
       "    </tr>\n",
       "    <tr>\n",
       "      <th>885</th>\n",
       "      <td>https://m.media-amazon.com/images/M/MV5BMTc5Nz...</td>\n",
       "      <td>Victoria</td>\n",
       "      <td>2015</td>\n",
       "      <td>NaN</td>\n",
       "      <td>138 min</td>\n",
       "      <td>Crime, Drama, Romance</td>\n",
       "      <td>7.6</td>\n",
       "      <td>A young Spanish woman who has recently moved t...</td>\n",
       "      <td>77.0</td>\n",
       "      <td>Sebastian Schipper</td>\n",
       "      <td>Laia Costa</td>\n",
       "      <td>Frederick Lau</td>\n",
       "      <td>Franz Rogowski</td>\n",
       "      <td>Burak Yigit</td>\n",
       "      <td>52903</td>\n",
       "      <td>NaN</td>\n",
       "      <td>2015</td>\n",
       "      <td>2010.0</td>\n",
       "    </tr>\n",
       "    <tr>\n",
       "      <th>897</th>\n",
       "      <td>https://m.media-amazon.com/images/M/MV5BMjA5OD...</td>\n",
       "      <td>Philomena</td>\n",
       "      <td>2013</td>\n",
       "      <td>PG-13</td>\n",
       "      <td>98 min</td>\n",
       "      <td>Biography, Comedy, Drama</td>\n",
       "      <td>7.6</td>\n",
       "      <td>A world-weary political journalist picks up th...</td>\n",
       "      <td>77.0</td>\n",
       "      <td>Stephen Frears</td>\n",
       "      <td>Judi Dench</td>\n",
       "      <td>Steve Coogan</td>\n",
       "      <td>Sophie Kennedy Clark</td>\n",
       "      <td>Mare Winningham</td>\n",
       "      <td>94212</td>\n",
       "      <td>37,707,719</td>\n",
       "      <td>2013</td>\n",
       "      <td>2010.0</td>\n",
       "    </tr>\n",
       "  </tbody>\n",
       "</table>\n",
       "</div>"
      ],
      "text/plain": [
       "                                           Poster_Link  \\\n",
       "59   https://m.media-amazon.com/images/M/MV5BMTc5MD...   \n",
       "63   https://m.media-amazon.com/images/M/MV5BMTk4OD...   \n",
       "84   https://m.media-amazon.com/images/M/MV5BOTdmNT...   \n",
       "88   https://m.media-amazon.com/images/M/MV5BMTg2ND...   \n",
       "197  https://m.media-amazon.com/images/M/MV5BZGRkOG...   \n",
       "202  https://m.media-amazon.com/images/M/MV5BYzc5MT...   \n",
       "204  https://m.media-amazon.com/images/M/MV5BNGQzY2...   \n",
       "330  https://m.media-amazon.com/images/M/MV5BOTMyMj...   \n",
       "468  https://m.media-amazon.com/images/M/MV5BMTQ4NT...   \n",
       "612  https://m.media-amazon.com/images/M/MV5BYjYzOG...   \n",
       "621  https://m.media-amazon.com/images/M/MV5BZjY5Zj...   \n",
       "764  https://m.media-amazon.com/images/M/MV5BMTUxNz...   \n",
       "885  https://m.media-amazon.com/images/M/MV5BMTc5Nz...   \n",
       "897  https://m.media-amazon.com/images/M/MV5BMjA5OD...   \n",
       "\n",
       "                   Series_Title Released_Year Certificate  Runtime  \\\n",
       "59            Avengers: Endgame          2019          UA  181 min   \n",
       "63        The Dark Knight Rises          2012          UA  164 min   \n",
       "84                         1917          2019           R  119 min   \n",
       "88                       Jagten          2012           R  115 min   \n",
       "197              Koe no katachi          2016          16  130 min   \n",
       "202                       Logan          2017           A  137 min   \n",
       "204            Relatos salvajes          2014           R  122 min   \n",
       "330                    Zootopia          2016           U  108 min   \n",
       "468             I, Daniel Blake          2016          UA  100 min   \n",
       "612  The Trial of the Chicago 7          2020           R  129 min   \n",
       "621                       Drive          2011           A  100 min   \n",
       "764                  Ex Machina          2014          UA  108 min   \n",
       "885                    Victoria          2015         NaN  138 min   \n",
       "897                   Philomena          2013       PG-13   98 min   \n",
       "\n",
       "                            Genre  IMDB_Rating  \\\n",
       "59       Action, Adventure, Drama          8.4   \n",
       "63              Action, Adventure          8.4   \n",
       "84           Drama, Thriller, War          8.3   \n",
       "88                          Drama          8.3   \n",
       "197      Animation, Drama, Family          8.1   \n",
       "202         Action, Drama, Sci-Fi          8.1   \n",
       "204       Comedy, Drama, Thriller          8.1   \n",
       "330  Animation, Adventure, Comedy          8.0   \n",
       "468                         Drama          7.9   \n",
       "612      Drama, History, Thriller          7.8   \n",
       "621                  Crime, Drama          7.8   \n",
       "764       Drama, Sci-Fi, Thriller          7.7   \n",
       "885         Crime, Drama, Romance          7.6   \n",
       "897      Biography, Comedy, Drama          7.6   \n",
       "\n",
       "                                              Overview  Meta_score  \\\n",
       "59   After the devastating events of Avengers: Infi...        78.0   \n",
       "63   Eight years after the Joker's reign of anarchy...        78.0   \n",
       "84   April 6th, 1917. As a regiment assembles to wa...        78.0   \n",
       "88   A teacher lives a lonely life, all the while s...        77.0   \n",
       "197  A young man is ostracized by his classmates af...        78.0   \n",
       "202  In a future where mutants are nearly extinct, ...        77.0   \n",
       "204  Six short stories that explore the extremities...        77.0   \n",
       "330  In a city of anthropomorphic animals, a rookie...        78.0   \n",
       "468  After having suffered a heart-attack, a 59-yea...        78.0   \n",
       "612  The story of 7 people on trial stemming from v...        77.0   \n",
       "621  A mysterious Hollywood stuntman and mechanic m...        78.0   \n",
       "764  A young programmer is selected to participate ...        78.0   \n",
       "885  A young Spanish woman who has recently moved t...        77.0   \n",
       "897  A world-weary political journalist picks up th...        77.0   \n",
       "\n",
       "                 Director                 Star1              Star2  \\\n",
       "59          Anthony Russo             Joe Russo  Robert Downey Jr.   \n",
       "63      Christopher Nolan        Christian Bale          Tom Hardy   \n",
       "84             Sam Mendes  Dean-Charles Chapman      George MacKay   \n",
       "88      Thomas Vinterberg        Mads Mikkelsen   Thomas Bo Larsen   \n",
       "197          Naoko Yamada            Miyu Irino       Saori Hayami   \n",
       "202         James Mangold          Hugh Jackman    Patrick Stewart   \n",
       "204       DamiÃ¡n Szifron    DarÃ­o Grandinetti      MarÃ­a Marull   \n",
       "330          Byron Howard            Rich Moore         Jared Bush   \n",
       "468             Ken Loach          Laura Obiols         Dave Johns   \n",
       "612          Aaron Sorkin        Eddie Redmayne         Alex Sharp   \n",
       "621  Nicolas Winding Refn          Ryan Gosling     Carey Mulligan   \n",
       "764          Alex Garland       Alicia Vikander   Domhnall Gleeson   \n",
       "885    Sebastian Schipper            Laia Costa      Frederick Lau   \n",
       "897        Stephen Frears            Judi Dench       Steve Coogan   \n",
       "\n",
       "                    Star3              Star4  No_of_Votes        Gross  Year  \\\n",
       "59            Chris Evans       Mark Ruffalo       809955  858,373,000  2019   \n",
       "63          Anne Hathaway        Gary Oldman      1516346  448,139,099  2012   \n",
       "84            Daniel Mays        Colin Firth       425844  159,227,644  2019   \n",
       "88      Annika Wedderkopp  Lasse FogelstrÃ¸m       281623      687,185  2012   \n",
       "197             Aoi YÃ»ki        KenshÃ´ Ono        47708          NaN  2016   \n",
       "202            Dafne Keen      Boyd Holbrook       647884  226,277,068  2017   \n",
       "204         MÃ³nica Villa     Diego Starosta       177059    3,107,072  2014   \n",
       "330      Ginnifer Goodwin      Jason Bateman       434143  341,268,248  2016   \n",
       "468        Hayley Squires       Sharon Percy        53818      258,168  2016   \n",
       "612     Sacha Baron Cohen      Jeremy Strong        89896          NaN  2020   \n",
       "621        Bryan Cranston      Albert Brooks       571571   35,061,555  2011   \n",
       "764           Oscar Isaac      Sonoya Mizuno       474141   25,442,958  2014   \n",
       "885        Franz Rogowski        Burak Yigit        52903          NaN  2015   \n",
       "897  Sophie Kennedy Clark    Mare Winningham        94212   37,707,719  2013   \n",
       "\n",
       "     Decada  \n",
       "59   2010.0  \n",
       "63   2010.0  \n",
       "84   2010.0  \n",
       "88   2010.0  \n",
       "197  2010.0  \n",
       "202  2010.0  \n",
       "204  2010.0  \n",
       "330  2010.0  \n",
       "468  2010.0  \n",
       "612  2010.0  \n",
       "621  2010.0  \n",
       "764  2010.0  \n",
       "885  2010.0  \n",
       "897  2010.0  "
      ]
     },
     "execution_count": 32,
     "metadata": {},
     "output_type": "execute_result"
    }
   ],
   "source": [
    "rangos_puntuacion = decada_2010[(decada_2010[\"Meta_score\"] == 77) | (decada_2010[\"Meta_score\"] == 78)]\n",
    "rangos_puntuacion"
   ]
  },
  {
   "cell_type": "code",
   "execution_count": 33,
   "metadata": {},
   "outputs": [
    {
     "data": {
      "image/png": "[encoded data removed]",
      "text/plain": [
       "<Figure size 432x288 with 1 Axes>"
      ]
     },
     "metadata": {
      "needs_background": "light"
     },
     "output_type": "display_data"
    }
   ],
   "source": [
    "# Sacamos un boxplot para ver los valores estadísitcos de una forma visual.\n",
    "\n",
    "plt.figure()\n",
    "\n",
    "fig = sns.boxplot(x = \"Meta_score\", data= decada_2010)\n",
    "plt.grid(color=\"grey\")\n",
    "\n",
    "plt.show();"
   ]
  },
  {
   "attachments": {},
   "cell_type": "markdown",
   "metadata": {},
   "source": [
    "- ¿Cuál es la película que ha costado más? ¿Cuál ha costado menos?"
   ]
  },
  {
   "cell_type": "code",
   "execution_count": 34,
   "metadata": {},
   "outputs": [],
   "source": [
    "# Creamos un apply para convertir el presupuesto de cadena a int.\n",
    "\n",
    "def sueldo_a_int(column):\n",
    "    try:\n",
    "        return int(column.replace(\",\" , \"\"))\n",
    "    except:\n",
    "        return np.nan\n",
    "   "
   ]
  },
  {
   "cell_type": "code",
   "execution_count": 35,
   "metadata": {},
   "outputs": [
    {
     "name": "stderr",
     "output_type": "stream",
     "text": [
      "/var/folders/66/3gn2x5sj3tlfxjp4wp1zg9n00000gn/T/ipykernel_10832/1082498797.py:1: SettingWithCopyWarning: \n",
      "A value is trying to be set on a copy of a slice from a DataFrame.\n",
      "Try using .loc[row_indexer,col_indexer] = value instead\n",
      "\n",
      "See the caveats in the documentation: https://pandas.pydata.org/pandas-docs/stable/user_guide/indexing.html#returning-a-view-versus-a-copy\n",
      "  decada_2010[\"Presupuesto\"] = decada_2010[\"Gross\"].apply(sueldo_a_int)\n"
     ]
    }
   ],
   "source": [
    "decada_2010[\"Presupuesto\"] = decada_2010[\"Gross\"].apply(sueldo_a_int)"
   ]
  },
  {
   "cell_type": "code",
   "execution_count": 36,
   "metadata": {},
   "outputs": [
    {
     "data": {
      "text/html": [
       "<div>\n",
       "<style scoped>\n",
       "    .dataframe tbody tr th:only-of-type {\n",
       "        vertical-align: middle;\n",
       "    }\n",
       "\n",
       "    .dataframe tbody tr th {\n",
       "        vertical-align: top;\n",
       "    }\n",
       "\n",
       "    .dataframe thead th {\n",
       "        text-align: right;\n",
       "    }\n",
       "</style>\n",
       "<table border=\"1\" class=\"dataframe\">\n",
       "  <thead>\n",
       "    <tr style=\"text-align: right;\">\n",
       "      <th></th>\n",
       "      <th>Poster_Link</th>\n",
       "      <th>Series_Title</th>\n",
       "      <th>Released_Year</th>\n",
       "      <th>Certificate</th>\n",
       "      <th>Runtime</th>\n",
       "      <th>Genre</th>\n",
       "      <th>IMDB_Rating</th>\n",
       "      <th>Overview</th>\n",
       "      <th>Meta_score</th>\n",
       "      <th>Director</th>\n",
       "      <th>Star1</th>\n",
       "      <th>Star2</th>\n",
       "      <th>Star3</th>\n",
       "      <th>Star4</th>\n",
       "      <th>No_of_Votes</th>\n",
       "      <th>Gross</th>\n",
       "      <th>Year</th>\n",
       "      <th>Decada</th>\n",
       "      <th>Presupuesto</th>\n",
       "    </tr>\n",
       "  </thead>\n",
       "  <tbody>\n",
       "    <tr>\n",
       "      <th>18</th>\n",
       "      <td>https://m.media-amazon.com/images/M/MV5BNjViNW...</td>\n",
       "      <td>Hamilton</td>\n",
       "      <td>2020</td>\n",
       "      <td>PG-13</td>\n",
       "      <td>160 min</td>\n",
       "      <td>Biography, Drama, History</td>\n",
       "      <td>8.6</td>\n",
       "      <td>The real life of one of America's foremost fou...</td>\n",
       "      <td>90.0</td>\n",
       "      <td>Thomas Kail</td>\n",
       "      <td>Lin-Manuel Miranda</td>\n",
       "      <td>Phillipa Soo</td>\n",
       "      <td>Leslie Odom Jr.</td>\n",
       "      <td>RenÃ©e Elise Goldsberry</td>\n",
       "      <td>55291</td>\n",
       "      <td>NaN</td>\n",
       "      <td>2020</td>\n",
       "      <td>2010.0</td>\n",
       "      <td>NaN</td>\n",
       "    </tr>\n",
       "  </tbody>\n",
       "</table>\n",
       "</div>"
      ],
      "text/plain": [
       "                                          Poster_Link Series_Title  \\\n",
       "18  https://m.media-amazon.com/images/M/MV5BNjViNW...     Hamilton   \n",
       "\n",
       "   Released_Year Certificate  Runtime                      Genre  IMDB_Rating  \\\n",
       "18          2020       PG-13  160 min  Biography, Drama, History          8.6   \n",
       "\n",
       "                                             Overview  Meta_score  \\\n",
       "18  The real life of one of America's foremost fou...        90.0   \n",
       "\n",
       "       Director               Star1         Star2            Star3  \\\n",
       "18  Thomas Kail  Lin-Manuel Miranda  Phillipa Soo  Leslie Odom Jr.   \n",
       "\n",
       "                      Star4  No_of_Votes Gross  Year  Decada  Presupuesto  \n",
       "18  RenÃ©e Elise Goldsberry        55291   NaN  2020  2010.0          NaN  "
      ]
     },
     "execution_count": 36,
     "metadata": {},
     "output_type": "execute_result"
    }
   ],
   "source": [
    "decada_2010.sample()"
   ]
  },
  {
   "cell_type": "code",
   "execution_count": 37,
   "metadata": {},
   "outputs": [
    {
     "data": {
      "text/plain": [
       "936662225.0"
      ]
     },
     "execution_count": 37,
     "metadata": {},
     "output_type": "execute_result"
    }
   ],
   "source": [
    "decada_2010[\"Presupuesto\"].max()"
   ]
  },
  {
   "cell_type": "code",
   "execution_count": 38,
   "metadata": {},
   "outputs": [
    {
     "data": {
      "text/html": [
       "<div>\n",
       "<style scoped>\n",
       "    .dataframe tbody tr th:only-of-type {\n",
       "        vertical-align: middle;\n",
       "    }\n",
       "\n",
       "    .dataframe tbody tr th {\n",
       "        vertical-align: top;\n",
       "    }\n",
       "\n",
       "    .dataframe thead th {\n",
       "        text-align: right;\n",
       "    }\n",
       "</style>\n",
       "<table border=\"1\" class=\"dataframe\">\n",
       "  <thead>\n",
       "    <tr style=\"text-align: right;\">\n",
       "      <th></th>\n",
       "      <th>Poster_Link</th>\n",
       "      <th>Series_Title</th>\n",
       "      <th>Released_Year</th>\n",
       "      <th>Certificate</th>\n",
       "      <th>Runtime</th>\n",
       "      <th>Genre</th>\n",
       "      <th>IMDB_Rating</th>\n",
       "      <th>Overview</th>\n",
       "      <th>Meta_score</th>\n",
       "      <th>Director</th>\n",
       "      <th>Star1</th>\n",
       "      <th>Star2</th>\n",
       "      <th>Star3</th>\n",
       "      <th>Star4</th>\n",
       "      <th>No_of_Votes</th>\n",
       "      <th>Gross</th>\n",
       "      <th>Year</th>\n",
       "      <th>Decada</th>\n",
       "      <th>Presupuesto</th>\n",
       "    </tr>\n",
       "  </thead>\n",
       "  <tbody>\n",
       "    <tr>\n",
       "      <th>477</th>\n",
       "      <td>https://m.media-amazon.com/images/M/MV5BOTAzOD...</td>\n",
       "      <td>Star Wars: Episode VII - The Force Awakens</td>\n",
       "      <td>2015</td>\n",
       "      <td>U</td>\n",
       "      <td>138 min</td>\n",
       "      <td>Action, Adventure, Sci-Fi</td>\n",
       "      <td>7.9</td>\n",
       "      <td>As a new threat to the galaxy rises, Rey, a de...</td>\n",
       "      <td>80.0</td>\n",
       "      <td>J.J. Abrams</td>\n",
       "      <td>Daisy Ridley</td>\n",
       "      <td>John Boyega</td>\n",
       "      <td>Oscar Isaac</td>\n",
       "      <td>Domhnall Gleeson</td>\n",
       "      <td>860823</td>\n",
       "      <td>936,662,225</td>\n",
       "      <td>2015</td>\n",
       "      <td>2010.0</td>\n",
       "      <td>936662225.0</td>\n",
       "    </tr>\n",
       "  </tbody>\n",
       "</table>\n",
       "</div>"
      ],
      "text/plain": [
       "                                           Poster_Link  \\\n",
       "477  https://m.media-amazon.com/images/M/MV5BOTAzOD...   \n",
       "\n",
       "                                   Series_Title Released_Year Certificate  \\\n",
       "477  Star Wars: Episode VII - The Force Awakens          2015           U   \n",
       "\n",
       "     Runtime                      Genre  IMDB_Rating  \\\n",
       "477  138 min  Action, Adventure, Sci-Fi          7.9   \n",
       "\n",
       "                                              Overview  Meta_score  \\\n",
       "477  As a new threat to the galaxy rises, Rey, a de...        80.0   \n",
       "\n",
       "        Director         Star1        Star2        Star3             Star4  \\\n",
       "477  J.J. Abrams  Daisy Ridley  John Boyega  Oscar Isaac  Domhnall Gleeson   \n",
       "\n",
       "     No_of_Votes        Gross  Year  Decada  Presupuesto  \n",
       "477       860823  936,662,225  2015  2010.0  936662225.0  "
      ]
     },
     "execution_count": 38,
     "metadata": {},
     "output_type": "execute_result"
    }
   ],
   "source": [
    "pelicula_cara = decada_2010[decada_2010[\"Presupuesto\"]== 936662225.0]\n",
    "pelicula_cara"
   ]
  },
  {
   "cell_type": "code",
   "execution_count": 39,
   "metadata": {},
   "outputs": [
    {
     "data": {
      "text/plain": [
       "39567.0"
      ]
     },
     "execution_count": 39,
     "metadata": {},
     "output_type": "execute_result"
    }
   ],
   "source": [
    "decada_2010[\"Presupuesto\"].min()"
   ]
  },
  {
   "cell_type": "code",
   "execution_count": 40,
   "metadata": {},
   "outputs": [
    {
     "data": {
      "text/html": [
       "<div>\n",
       "<style scoped>\n",
       "    .dataframe tbody tr th:only-of-type {\n",
       "        vertical-align: middle;\n",
       "    }\n",
       "\n",
       "    .dataframe tbody tr th {\n",
       "        vertical-align: top;\n",
       "    }\n",
       "\n",
       "    .dataframe thead th {\n",
       "        text-align: right;\n",
       "    }\n",
       "</style>\n",
       "<table border=\"1\" class=\"dataframe\">\n",
       "  <thead>\n",
       "    <tr style=\"text-align: right;\">\n",
       "      <th></th>\n",
       "      <th>Poster_Link</th>\n",
       "      <th>Series_Title</th>\n",
       "      <th>Released_Year</th>\n",
       "      <th>Certificate</th>\n",
       "      <th>Runtime</th>\n",
       "      <th>Genre</th>\n",
       "      <th>IMDB_Rating</th>\n",
       "      <th>Overview</th>\n",
       "      <th>Meta_score</th>\n",
       "      <th>Director</th>\n",
       "      <th>Star1</th>\n",
       "      <th>Star2</th>\n",
       "      <th>Star3</th>\n",
       "      <th>Star4</th>\n",
       "      <th>No_of_Votes</th>\n",
       "      <th>Gross</th>\n",
       "      <th>Year</th>\n",
       "      <th>Decada</th>\n",
       "      <th>Presupuesto</th>\n",
       "    </tr>\n",
       "  </thead>\n",
       "  <tbody>\n",
       "    <tr>\n",
       "      <th>142</th>\n",
       "      <td>https://m.media-amazon.com/images/M/MV5BNTgwOD...</td>\n",
       "      <td>Paan Singh Tomar</td>\n",
       "      <td>2012</td>\n",
       "      <td>UA</td>\n",
       "      <td>135 min</td>\n",
       "      <td>Action, Biography, Crime</td>\n",
       "      <td>8.2</td>\n",
       "      <td>The story of Paan Singh Tomar, an Indian athle...</td>\n",
       "      <td>NaN</td>\n",
       "      <td>Tigmanshu Dhulia</td>\n",
       "      <td>Irrfan Khan</td>\n",
       "      <td>Mahie Gill</td>\n",
       "      <td>Rajesh Abhay</td>\n",
       "      <td>Hemendra Dandotiya</td>\n",
       "      <td>33237</td>\n",
       "      <td>39,567</td>\n",
       "      <td>2012</td>\n",
       "      <td>2010.0</td>\n",
       "      <td>39567.0</td>\n",
       "    </tr>\n",
       "  </tbody>\n",
       "</table>\n",
       "</div>"
      ],
      "text/plain": [
       "                                           Poster_Link      Series_Title  \\\n",
       "142  https://m.media-amazon.com/images/M/MV5BNTgwOD...  Paan Singh Tomar   \n",
       "\n",
       "    Released_Year Certificate  Runtime                     Genre  IMDB_Rating  \\\n",
       "142          2012          UA  135 min  Action, Biography, Crime          8.2   \n",
       "\n",
       "                                              Overview  Meta_score  \\\n",
       "142  The story of Paan Singh Tomar, an Indian athle...         NaN   \n",
       "\n",
       "             Director        Star1       Star2         Star3  \\\n",
       "142  Tigmanshu Dhulia  Irrfan Khan  Mahie Gill  Rajesh Abhay   \n",
       "\n",
       "                  Star4  No_of_Votes   Gross  Year  Decada  Presupuesto  \n",
       "142  Hemendra Dandotiya        33237  39,567  2012  2010.0      39567.0  "
      ]
     },
     "execution_count": 40,
     "metadata": {},
     "output_type": "execute_result"
    }
   ],
   "source": [
    "pelicula_barata = decada_2010[decada_2010[\"Presupuesto\"]== 39567.0]\n",
    "pelicula_barata"
   ]
  },
  {
   "cell_type": "code",
   "execution_count": 41,
   "metadata": {},
   "outputs": [
    {
     "data": {
      "image/png": "[encoded data removed]",
      "text/plain": [
       "<Figure size 1440x720 with 1 Axes>"
      ]
     },
     "metadata": {
      "needs_background": "light"
     },
     "output_type": "display_data"
    }
   ],
   "source": [
    "# Sacamos una gráfica de línea para ver las \"inversiones\" en películas en la década del 2010.\n",
    "# Concluimos que a medida que pasa el tiempo hay un aumento en el costo de las películas, que no nos sorprende por que cada vez hay más personas que participan \n",
    "# por película, y se invierte más también en la industria del entretenimiento.\n",
    "\n",
    "plt.figure(figsize=(20,10))\n",
    "\n",
    "fig = sns.lineplot(x=\"Year\", y= \"Presupuesto\", data= decada_2010)\n",
    "\n",
    "fig.set(xlabel = \"Año\", ylabel = \"Dinero invertido\" )\n",
    "\n",
    "plt.grid(color=\"Pink\")\n",
    "\n",
    "fig.set_title(\"Dinero Invertido en Películas\")\n",
    "\n",
    "plt.show();"
   ]
  }
 ],
 "metadata": {
  "kernelspec": {
   "display_name": "Python 3",
   "language": "python",
   "name": "python3"
  },
  "language_info": {
   "codemirror_mode": {
    "name": "ipython",
    "version": 3
   },
   "file_extension": ".py",
   "mimetype": "text/x-python",
   "name": "python",
   "nbconvert_exporter": "python",
   "pygments_lexer": "ipython3",
   "version": "3.10.7"
  },
  "orig_nbformat": 4,
  "vscode": {
   "interpreter": {
    "hash": "f0d0cdf5bbfc5bf143425a9ac8ca58b7235654eb99f7bbb57643934264c436bd"
   }
  }
 },
 "nbformat": 4,
 "nbformat_minor": 2
}
