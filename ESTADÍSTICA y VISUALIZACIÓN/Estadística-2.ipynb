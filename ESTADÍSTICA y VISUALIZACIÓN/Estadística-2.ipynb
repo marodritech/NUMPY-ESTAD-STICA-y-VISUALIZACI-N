{
 "cells": [
  {
   "cell_type": "markdown",
   "metadata": {},
   "source": [
    "    Para todas los ejercicios de pair programming de Estadística I, II y III usaremos el dataframe que se tome para el desarrollo de este ejercicio de pair programming."
   ]
  },
  {
   "cell_type": "code",
   "execution_count": 1,
   "metadata": {},
   "outputs": [],
   "source": [
    "import numpy as np\n",
    "from scipy import stats\n",
    "import seaborn as sns\n",
    "import pandas as pd\n",
    "import matplotlib.pyplot as plt"
   ]
  },
  {
   "cell_type": "code",
   "execution_count": 2,
   "metadata": {},
   "outputs": [],
   "source": [
    "fichero = pd.read_csv(\"data/coste_vida_reducido.csv\")"
   ]
  },
  {
   "cell_type": "markdown",
   "metadata": {},
   "source": [
    "## Objectivos"
   ]
  },
  {
   "cell_type": "markdown",
   "metadata": {},
   "source": [
    "1.  Extraer los siguentes estadísiticos del conjunto de datos para varias de las varibles disponibles:\n",
    "- Utilizando métodos de pandas: media, mediana, moda, máximo y mínimo\n",
    "- Percentiles 25, 75\n",
    "- Rango Intercualtílico\n",
    "- Boxplot de algunas variables\n",
    "- Tabla de frecuencias\n",
    "    - Variables cualitativas\n",
    "    - Variables cuantitativas\n",
    "    - Frecuencia acumulada\n",
    "    - Representación de al menos una tabla de frecuencias"
   ]
  },
  {
   "cell_type": "code",
   "execution_count": 3,
   "metadata": {},
   "outputs": [],
   "source": [
    "#Utilizamos el mismo fichero pero para no repetir datos usaremos India como referencia\n",
    "\n",
    "fichero_in = fichero[fichero[\"pais\"]== \"India\"]"
   ]
  },
  {
   "cell_type": "code",
   "execution_count": 4,
   "metadata": {},
   "outputs": [],
   "source": [
    "#Utilizando métodos de pandas: media, mediana, moda, máximo y mínimo\n",
    "media_in = round(fichero_in[\"Salario neto mensual\"].mean(),2)\n",
    "median_in = fichero_in[\"Salario neto mensual\"].median()\n",
    "moda_in = fichero_in[\"Salario neto mensual\"].mode()[0]\n",
    "max_in = fichero_in[\"Salario neto mensual\"].max()\n",
    "min_in = fichero_in[\"Salario neto mensual\"].min()"
   ]
  },
  {
   "cell_type": "code",
   "execution_count": 5,
   "metadata": {},
   "outputs": [
    {
     "name": "stdout",
     "output_type": "stream",
     "text": [
      "La media del sueldo en India, calculados en dollares americanos es de 432.56, la mediana es de 408.09, la moda es de 367.28. El salario maximo en India es de 1101.84, mientras el valor minimo es 178.74\n"
     ]
    }
   ],
   "source": [
    "print(f\"La media del sueldo en India, calculados en dollares americanos es de {media_in}, la mediana es de {median_in}, la moda es de {moda_in}. El salario maximo en India es de {max_in}, mientras el valor minimo es {min_in}\")"
   ]
  },
  {
   "cell_type": "code",
   "execution_count": 6,
   "metadata": {},
   "outputs": [],
   "source": [
    "#Percentiles 25, 75 - hemos decidido utilizar el nanpercentile porque sabemos que hay nulos en esta columna.\n",
    "q1, q3 = np.nanpercentile(fichero_in[\"Salario neto mensual\"], [25, 75])"
   ]
  },
  {
   "cell_type": "code",
   "execution_count": 7,
   "metadata": {},
   "outputs": [
    {
     "name": "stdout",
     "output_type": "stream",
     "text": [
      "El percentil 25 es 306.07 y el percentil 75 es 530.51 \n"
     ]
    }
   ],
   "source": [
    "print(f\"El percentil 25 es {q1} y el percentil 75 es {q3} \")"
   ]
  },
  {
   "cell_type": "code",
   "execution_count": 8,
   "metadata": {},
   "outputs": [
    {
     "name": "stdout",
     "output_type": "stream",
     "text": [
      "El rango intercualtílico es de 224.44 \n"
     ]
    }
   ],
   "source": [
    "#Rango Intercualtílico\n",
    "\n",
    "iqr = q3 - q1\n",
    "print(f\"El rango intercualtílico es de {iqr.round(2)} \")"
   ]
  },
  {
   "cell_type": "code",
   "execution_count": 9,
   "metadata": {},
   "outputs": [],
   "source": [
    "#Boxplot de algunas variables"
   ]
  },
  {
   "cell_type": "code",
   "execution_count": 9,
   "metadata": {},
   "outputs": [
    {
     "data": {
      "text/plain": [
       "Text(0.5, 1.0, 'Salario en India')"
      ]
     },
     "execution_count": 9,
     "metadata": {},
     "output_type": "execute_result"
    },
    {
     "data": {
      "image/png": "[encoded data removed]",
      "text/plain": [
       "<Figure size 432x288 with 1 Axes>"
      ]
     },
     "metadata": {
      "needs_background": "light"
     },
     "output_type": "display_data"
    }
   ],
   "source": [
    "plt.figure()\n",
    "\n",
    "fig = sns.boxplot(x = \"Salario neto mensual\", data = fichero_in)\n",
    "\n",
    "fig.set(xlabel = \"US $\")\n",
    "\n",
    "fig.set_title(\"Salario en India\")\n"
   ]
  },
  {
   "cell_type": "code",
   "execution_count": 10,
   "metadata": {},
   "outputs": [],
   "source": [
    "fichero_it = fichero[fichero[\"pais\"] == \"Italy\"]\n",
    "fichero_br = fichero[fichero[\"pais\"] == \"Brazil\"]\n",
    "fichero_uk = fichero[fichero[\"pais\"] == \"United Kingdom\"]"
   ]
  },
  {
   "cell_type": "code",
   "execution_count": 11,
   "metadata": {},
   "outputs": [
    {
     "data": {
      "image/png": "[encoded data removed]",
      "text/plain": [
       "<Figure size 432x288 with 1 Axes>"
      ]
     },
     "metadata": {
      "needs_background": "light"
     },
     "output_type": "display_data"
    }
   ],
   "source": [
    "plt.figure()\n",
    "\n",
    "fig = sns.boxplot(x = \"Salario neto mensual\", data = fichero_it)\n",
    "\n",
    "fig.set(xlabel = \"US $\")\n",
    "\n",
    "fig.set_title(\"Salario en Italia\");"
   ]
  },
  {
   "cell_type": "code",
   "execution_count": 12,
   "metadata": {},
   "outputs": [
    {
     "data": {
      "image/png": "[encoded data removed]",
      "text/plain": [
       "<Figure size 432x288 with 1 Axes>"
      ]
     },
     "metadata": {
      "needs_background": "light"
     },
     "output_type": "display_data"
    }
   ],
   "source": [
    "plt.figure()\n",
    "\n",
    "fig = sns.boxplot(x = \"Salario neto mensual\", data = fichero_br)\n",
    "\n",
    "fig.set(xlabel = \"US $\")\n",
    "\n",
    "fig.set_title(\"Salario en Brazil\");"
   ]
  },
  {
   "cell_type": "code",
   "execution_count": 13,
   "metadata": {},
   "outputs": [
    {
     "data": {
      "image/png": "[encoded data removed]",
      "text/plain": [
       "<Figure size 432x288 with 1 Axes>"
      ]
     },
     "metadata": {
      "needs_background": "light"
     },
     "output_type": "display_data"
    }
   ],
   "source": [
    "plt.figure()\n",
    "\n",
    "fig = sns.boxplot(x = \"Salario neto mensual\", data = fichero_uk)\n",
    "\n",
    "fig.set(xlabel = \"US $\")\n",
    "\n",
    "fig.set_title(\"Salario en UK\");"
   ]
  },
  {
   "cell_type": "code",
   "execution_count": 14,
   "metadata": {},
   "outputs": [
    {
     "name": "stderr",
     "output_type": "stream",
     "text": [
      "/var/folders/66/3gn2x5sj3tlfxjp4wp1zg9n00000gn/T/ipykernel_12212/2773507437.py:15: SettingWithCopyWarning: \n",
      "A value is trying to be set on a copy of a slice from a DataFrame.\n",
      "Try using .loc[row_indexer,col_indexer] = value instead\n",
      "\n",
      "See the caveats in the documentation: https://pandas.pydata.org/pandas-docs/stable/user_guide/indexing.html#returning-a-view-versus-a-copy\n",
      "  fichero_in[\"categoria_sueldo\"] = (fichero_in[\"Salario neto mensual\"].apply(cat_sueldo))\n"
     ]
    }
   ],
   "source": [
    "# Tabla de frecuencias - Variables cualitativas\n",
    "\n",
    "# Volvemos a la tabla de India y vamos a crear una columna para categorizar el sueldo y así hacer la tabla.\n",
    "\n",
    "\n",
    "def cat_sueldo(column): \n",
    "    if column <= q1:\n",
    "        return \"Bajo\"\n",
    "    elif q1 < column <=q3:\n",
    "        return \"Medio\"\n",
    "    else:\n",
    "        return \"Alto\"\n",
    "\n",
    "\n",
    "fichero_in[\"categoria_sueldo\"] = (fichero_in[\"Salario neto mensual\"].apply(cat_sueldo))\n",
    "\n"
   ]
  },
  {
   "cell_type": "code",
   "execution_count": 15,
   "metadata": {},
   "outputs": [
    {
     "data": {
      "text/html": [
       "<div>\n",
       "<style scoped>\n",
       "    .dataframe tbody tr th:only-of-type {\n",
       "        vertical-align: middle;\n",
       "    }\n",
       "\n",
       "    .dataframe tbody tr th {\n",
       "        vertical-align: top;\n",
       "    }\n",
       "\n",
       "    .dataframe thead th {\n",
       "        text-align: right;\n",
       "    }\n",
       "</style>\n",
       "<table border=\"1\" class=\"dataframe\">\n",
       "  <thead>\n",
       "    <tr style=\"text-align: right;\">\n",
       "      <th></th>\n",
       "      <th>categoria_sueldo</th>\n",
       "      <th>Unnamed: 0</th>\n",
       "      <th>ciudad</th>\n",
       "      <th>pais</th>\n",
       "      <th>leche</th>\n",
       "      <th>arroz</th>\n",
       "      <th>huevos</th>\n",
       "      <th>filetes de pollo</th>\n",
       "      <th>manzanas</th>\n",
       "      <th>tomates</th>\n",
       "      <th>Apartamento 1 habitación centro</th>\n",
       "      <th>Apartamento 1 habitación fuera del centro</th>\n",
       "      <th>Apartamento tres habitaciones en centro</th>\n",
       "      <th>tres habitaciones fuera centro</th>\n",
       "      <th>Precio por metro cuadrado en centro</th>\n",
       "      <th>Precio por metro cuadrado fuera centro</th>\n",
       "      <th>Salario neto mensual</th>\n",
       "      <th>pesos_pais</th>\n",
       "    </tr>\n",
       "  </thead>\n",
       "  <tbody>\n",
       "    <tr>\n",
       "      <th>0</th>\n",
       "      <td>Alto</td>\n",
       "      <td>76</td>\n",
       "      <td>76</td>\n",
       "      <td>76</td>\n",
       "      <td>74</td>\n",
       "      <td>73</td>\n",
       "      <td>74</td>\n",
       "      <td>68</td>\n",
       "      <td>64</td>\n",
       "      <td>63</td>\n",
       "      <td>49</td>\n",
       "      <td>49</td>\n",
       "      <td>48</td>\n",
       "      <td>50</td>\n",
       "      <td>33</td>\n",
       "      <td>30</td>\n",
       "      <td>30</td>\n",
       "      <td>76</td>\n",
       "    </tr>\n",
       "    <tr>\n",
       "      <th>1</th>\n",
       "      <td>Bajo</td>\n",
       "      <td>33</td>\n",
       "      <td>33</td>\n",
       "      <td>33</td>\n",
       "      <td>33</td>\n",
       "      <td>32</td>\n",
       "      <td>32</td>\n",
       "      <td>31</td>\n",
       "      <td>29</td>\n",
       "      <td>30</td>\n",
       "      <td>32</td>\n",
       "      <td>31</td>\n",
       "      <td>31</td>\n",
       "      <td>31</td>\n",
       "      <td>25</td>\n",
       "      <td>25</td>\n",
       "      <td>33</td>\n",
       "      <td>33</td>\n",
       "    </tr>\n",
       "    <tr>\n",
       "      <th>2</th>\n",
       "      <td>Medio</td>\n",
       "      <td>58</td>\n",
       "      <td>58</td>\n",
       "      <td>58</td>\n",
       "      <td>58</td>\n",
       "      <td>58</td>\n",
       "      <td>58</td>\n",
       "      <td>56</td>\n",
       "      <td>56</td>\n",
       "      <td>57</td>\n",
       "      <td>57</td>\n",
       "      <td>57</td>\n",
       "      <td>56</td>\n",
       "      <td>56</td>\n",
       "      <td>51</td>\n",
       "      <td>48</td>\n",
       "      <td>58</td>\n",
       "      <td>58</td>\n",
       "    </tr>\n",
       "  </tbody>\n",
       "</table>\n",
       "</div>"
      ],
      "text/plain": [
       "  categoria_sueldo  Unnamed: 0  ciudad  pais  leche  arroz  huevos  \\\n",
       "0             Alto          76      76    76     74     73      74   \n",
       "1             Bajo          33      33    33     33     32      32   \n",
       "2            Medio          58      58    58     58     58      58   \n",
       "\n",
       "   filetes de pollo  manzanas  tomates  Apartamento 1 habitación centro   \\\n",
       "0                68        64       63                                49   \n",
       "1                31        29       30                                32   \n",
       "2                56        56       57                                57   \n",
       "\n",
       "   Apartamento 1 habitación fuera del centro  \\\n",
       "0                                         49   \n",
       "1                                         31   \n",
       "2                                         57   \n",
       "\n",
       "   Apartamento tres habitaciones en centro   tres habitaciones fuera centro  \\\n",
       "0                                       48                               50   \n",
       "1                                       31                               31   \n",
       "2                                       56                               56   \n",
       "\n",
       "   Precio por metro cuadrado en centro  \\\n",
       "0                                   33   \n",
       "1                                   25   \n",
       "2                                   51   \n",
       "\n",
       "   Precio por metro cuadrado fuera centro  Salario neto mensual  pesos_pais  \n",
       "0                                      30                    30          76  \n",
       "1                                      25                    33          33  \n",
       "2                                      48                    58          58  "
      ]
     },
     "execution_count": 15,
     "metadata": {},
     "output_type": "execute_result"
    }
   ],
   "source": [
    "# Tabla de frecuencias - Variables cualitativas\n",
    "frecuencias_categoricas_in = fichero_in.groupby(\"categoria_sueldo\").count().reset_index()\n",
    "frecuencias_categoricas_in"
   ]
  },
  {
   "cell_type": "code",
   "execution_count": 16,
   "metadata": {},
   "outputs": [
    {
     "data": {
      "text/html": [
       "<div>\n",
       "<style scoped>\n",
       "    .dataframe tbody tr th:only-of-type {\n",
       "        vertical-align: middle;\n",
       "    }\n",
       "\n",
       "    .dataframe tbody tr th {\n",
       "        vertical-align: top;\n",
       "    }\n",
       "\n",
       "    .dataframe thead th {\n",
       "        text-align: right;\n",
       "    }\n",
       "</style>\n",
       "<table border=\"1\" class=\"dataframe\">\n",
       "  <thead>\n",
       "    <tr style=\"text-align: right;\">\n",
       "      <th></th>\n",
       "      <th>Salario neto mensual</th>\n",
       "      <th>Unnamed: 0</th>\n",
       "      <th>ciudad</th>\n",
       "      <th>pais</th>\n",
       "      <th>leche</th>\n",
       "      <th>arroz</th>\n",
       "      <th>huevos</th>\n",
       "      <th>filetes de pollo</th>\n",
       "      <th>manzanas</th>\n",
       "      <th>tomates</th>\n",
       "      <th>Apartamento 1 habitación centro</th>\n",
       "      <th>Apartamento 1 habitación fuera del centro</th>\n",
       "      <th>Apartamento tres habitaciones en centro</th>\n",
       "      <th>tres habitaciones fuera centro</th>\n",
       "      <th>Precio por metro cuadrado en centro</th>\n",
       "      <th>Precio por metro cuadrado fuera centro</th>\n",
       "      <th>pesos_pais</th>\n",
       "      <th>categoria_sueldo</th>\n",
       "    </tr>\n",
       "  </thead>\n",
       "  <tbody>\n",
       "    <tr>\n",
       "      <th>20</th>\n",
       "      <td>367.28</td>\n",
       "      <td>10</td>\n",
       "      <td>10</td>\n",
       "      <td>10</td>\n",
       "      <td>10</td>\n",
       "      <td>10</td>\n",
       "      <td>10</td>\n",
       "      <td>9</td>\n",
       "      <td>8</td>\n",
       "      <td>10</td>\n",
       "      <td>10</td>\n",
       "      <td>10</td>\n",
       "      <td>10</td>\n",
       "      <td>10</td>\n",
       "      <td>8</td>\n",
       "      <td>7</td>\n",
       "      <td>10</td>\n",
       "      <td>10</td>\n",
       "    </tr>\n",
       "    <tr>\n",
       "      <th>7</th>\n",
       "      <td>244.85</td>\n",
       "      <td>9</td>\n",
       "      <td>9</td>\n",
       "      <td>9</td>\n",
       "      <td>9</td>\n",
       "      <td>9</td>\n",
       "      <td>9</td>\n",
       "      <td>8</td>\n",
       "      <td>8</td>\n",
       "      <td>8</td>\n",
       "      <td>9</td>\n",
       "      <td>9</td>\n",
       "      <td>9</td>\n",
       "      <td>9</td>\n",
       "      <td>5</td>\n",
       "      <td>6</td>\n",
       "      <td>9</td>\n",
       "      <td>9</td>\n",
       "    </tr>\n",
       "    <tr>\n",
       "      <th>11</th>\n",
       "      <td>306.07</td>\n",
       "      <td>9</td>\n",
       "      <td>9</td>\n",
       "      <td>9</td>\n",
       "      <td>9</td>\n",
       "      <td>8</td>\n",
       "      <td>8</td>\n",
       "      <td>8</td>\n",
       "      <td>7</td>\n",
       "      <td>7</td>\n",
       "      <td>8</td>\n",
       "      <td>7</td>\n",
       "      <td>8</td>\n",
       "      <td>7</td>\n",
       "      <td>8</td>\n",
       "      <td>7</td>\n",
       "      <td>9</td>\n",
       "      <td>9</td>\n",
       "    </tr>\n",
       "    <tr>\n",
       "      <th>34</th>\n",
       "      <td>489.71</td>\n",
       "      <td>8</td>\n",
       "      <td>8</td>\n",
       "      <td>8</td>\n",
       "      <td>8</td>\n",
       "      <td>8</td>\n",
       "      <td>8</td>\n",
       "      <td>8</td>\n",
       "      <td>8</td>\n",
       "      <td>8</td>\n",
       "      <td>8</td>\n",
       "      <td>8</td>\n",
       "      <td>8</td>\n",
       "      <td>8</td>\n",
       "      <td>7</td>\n",
       "      <td>7</td>\n",
       "      <td>8</td>\n",
       "      <td>8</td>\n",
       "    </tr>\n",
       "    <tr>\n",
       "      <th>25</th>\n",
       "      <td>428.49</td>\n",
       "      <td>6</td>\n",
       "      <td>6</td>\n",
       "      <td>6</td>\n",
       "      <td>6</td>\n",
       "      <td>6</td>\n",
       "      <td>6</td>\n",
       "      <td>5</td>\n",
       "      <td>6</td>\n",
       "      <td>6</td>\n",
       "      <td>5</td>\n",
       "      <td>5</td>\n",
       "      <td>5</td>\n",
       "      <td>5</td>\n",
       "      <td>5</td>\n",
       "      <td>5</td>\n",
       "      <td>6</td>\n",
       "      <td>6</td>\n",
       "    </tr>\n",
       "  </tbody>\n",
       "</table>\n",
       "</div>"
      ],
      "text/plain": [
       "    Salario neto mensual  Unnamed: 0  ciudad  pais  leche  arroz  huevos  \\\n",
       "20                367.28          10      10    10     10     10      10   \n",
       "7                 244.85           9       9     9      9      9       9   \n",
       "11                306.07           9       9     9      9      8       8   \n",
       "34                489.71           8       8     8      8      8       8   \n",
       "25                428.49           6       6     6      6      6       6   \n",
       "\n",
       "    filetes de pollo  manzanas  tomates  Apartamento 1 habitación centro   \\\n",
       "20                 9         8       10                                10   \n",
       "7                  8         8        8                                 9   \n",
       "11                 8         7        7                                 8   \n",
       "34                 8         8        8                                 8   \n",
       "25                 5         6        6                                 5   \n",
       "\n",
       "    Apartamento 1 habitación fuera del centro  \\\n",
       "20                                         10   \n",
       "7                                           9   \n",
       "11                                          7   \n",
       "34                                          8   \n",
       "25                                          5   \n",
       "\n",
       "    Apartamento tres habitaciones en centro   tres habitaciones fuera centro  \\\n",
       "20                                       10                               10   \n",
       "7                                         9                                9   \n",
       "11                                        8                                7   \n",
       "34                                        8                                8   \n",
       "25                                        5                                5   \n",
       "\n",
       "    Precio por metro cuadrado en centro  \\\n",
       "20                                    8   \n",
       "7                                     5   \n",
       "11                                    8   \n",
       "34                                    7   \n",
       "25                                    5   \n",
       "\n",
       "    Precio por metro cuadrado fuera centro  pesos_pais  categoria_sueldo  \n",
       "20                                       7          10                10  \n",
       "7                                        6           9                 9  \n",
       "11                                       7           9                 9  \n",
       "34                                       7           8                 8  \n",
       "25                                       5           6                 6  "
      ]
     },
     "execution_count": 16,
     "metadata": {},
     "output_type": "execute_result"
    }
   ],
   "source": [
    "#Tabla de frecuencias - Variables cuantitativas\n",
    "\n",
    "fichero_salario = fichero_in.groupby(\"Salario neto mensual\").count().reset_index().sort_values(by = \"ciudad\", ascending = False)\n",
    "fichero_salario.head()"
   ]
  },
  {
   "cell_type": "code",
   "execution_count": 17,
   "metadata": {},
   "outputs": [
    {
     "name": "stdout",
     "output_type": "stream",
     "text": [
      "La media del sueldo en India, calculados en dollares americanos es de 432.56, la mediana es de 408.09, la moda es de 367.28.\n",
      "\n",
      "El salario maximo en India es de 1101.84, mientras el valor minimo es 178.74\n"
     ]
    }
   ],
   "source": [
    "print(f\"La media del sueldo en India, calculados en dollares americanos es de {media_in}, la mediana es de {median_in}, la moda es de {moda_in}.\")\n",
    "\n",
    "print()\n",
    "\n",
    "print(f\"El salario maximo en India es de {max_in}, mientras el valor minimo es {min_in}\")"
   ]
  },
  {
   "cell_type": "code",
   "execution_count": 18,
   "metadata": {},
   "outputs": [
    {
     "data": {
      "text/plain": [
       "173.03"
      ]
     },
     "execution_count": 18,
     "metadata": {},
     "output_type": "execute_result"
    }
   ],
   "source": [
    "desviacion = fichero_in[\"Salario neto mensual\"].std()\n",
    "round(desviacion,2)"
   ]
  },
  {
   "cell_type": "markdown",
   "metadata": {},
   "source": [
    "2. Interpretación de los resultados.\n",
    "- Ahora interpreta los resultados obtenidos de los diferentes estadísticos estudiados haciendo hincapié en aspectos interesantes de tus datos y explica lo mejor posible la naturaleza de los mismos."
   ]
  },
  {
   "attachments": {},
   "cell_type": "markdown",
   "metadata": {},
   "source": [
    "Concluimos con los datos de India que es un sueldo medio muy bajo, aunque no hemos podido ver el nivel adquisitivo respecto a la alimentación o vivienda. Creemos que es un país más bien pobre, menos consumista con lo cual también reduce los salarios.\n",
    "\n",
    "- Vemos que la moda es menor que la media y la mediana, con lo cual entendemos que hay valores máximos que suben la media.\n",
    "- Hemos sacado también la desviación típica por curiosidad y vemos que es de 173.03 dolares, que para una mediana de 408.09 dolares es bastante alta,casi un 50%.\n",
    "- Comparando los boxplots de los salarios en los otros paises nos damos cuenta de que Brasil e India tienen salarios más bajos y Reino Unido e Italia tienen sueldos más altos. Paises donde la capacidad de ocio es mayor tienden a tener mayores sueldos para promover el consumo."
   ]
  }
 ],
 "metadata": {
  "kernelspec": {
   "display_name": "Python 3.9.7 ('base')",
   "language": "python",
   "name": "python3"
  },
  "language_info": {
   "codemirror_mode": {
    "name": "ipython",
    "version": 3
   },
   "file_extension": ".py",
   "mimetype": "text/x-python",
   "name": "python",
   "nbconvert_exporter": "python",
   "pygments_lexer": "ipython3",
   "version": "3.9.7"
  },
  "orig_nbformat": 4,
  "vscode": {
   "interpreter": {
    "hash": "651c3b7b3f466eb030aa737f279c846be4db9cba49a2f229278cab5e41121ed5"
   }
  }
 },
 "nbformat": 4,
 "nbformat_minor": 2
}
